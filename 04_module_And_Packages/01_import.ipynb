{
 "cells": [
  {
   "cell_type": "markdown",
   "id": "e60d2523",
   "metadata": {},
   "source": [
    "**Importing Modules In Python: Modules and Packages**\n",
    "in python,modules and packages help to organize and reuse code. Here's comprehensive guide on how to import them."
   ]
  },
  {
   "cell_type": "code",
   "execution_count": 2,
   "id": "50054c4e",
   "metadata": {},
   "outputs": [
    {
     "data": {
      "text/plain": [
       "4.0"
      ]
     },
     "execution_count": 2,
     "metadata": {},
     "output_type": "execute_result"
    }
   ],
   "source": [
    "import math\n",
    "math.sqrt(16)"
   ]
  },
  {
   "cell_type": "code",
   "execution_count": 5,
   "id": "5252e36d",
   "metadata": {},
   "outputs": [
    {
     "name": "stdout",
     "output_type": "stream",
     "text": [
      "9.0\n",
      "3.141592653589793\n"
     ]
    }
   ],
   "source": [
    "from math import sqrt,pi\n",
    "print(sqrt(81))\n",
    "print(pi)"
   ]
  },
  {
   "cell_type": "code",
   "execution_count": 6,
   "id": "e6d72b89",
   "metadata": {},
   "outputs": [
    {
     "data": {
      "text/plain": [
       "array([1, 2, 3, 4])"
      ]
     },
     "execution_count": 6,
     "metadata": {},
     "output_type": "execute_result"
    }
   ],
   "source": [
    "import numpy as np\n",
    "np.array([1,2,3,4])"
   ]
  },
  {
   "cell_type": "code",
   "execution_count": 8,
   "id": "5fdde41f",
   "metadata": {},
   "outputs": [
    {
     "name": "stdout",
     "output_type": "stream",
     "text": [
      "7.0\n",
      "3.141592653589793\n"
     ]
    }
   ],
   "source": [
    "from math import *\n",
    "print(math.sqrt(49))\n",
    "print(pi)"
   ]
  },
  {
   "cell_type": "code",
   "execution_count": 10,
   "id": "f2b5fac7",
   "metadata": {},
   "outputs": [
    {
     "data": {
      "text/plain": [
       "7"
      ]
     },
     "execution_count": 10,
     "metadata": {},
     "output_type": "execute_result"
    }
   ],
   "source": [
    "from package.math import addition\n",
    "addition(3,4)"
   ]
  },
  {
   "cell_type": "code",
   "execution_count": 16,
   "id": "2120306a",
   "metadata": {},
   "outputs": [
    {
     "data": {
      "text/plain": [
       "8"
      ]
     },
     "execution_count": 16,
     "metadata": {},
     "output_type": "execute_result"
    }
   ],
   "source": [
    "from package.maths import addition\n",
    "addition(3,5)"
   ]
  },
  {
   "cell_type": "code",
   "execution_count": 17,
   "id": "bc33b784",
   "metadata": {},
   "outputs": [
    {
     "data": {
      "text/plain": [
       "7"
      ]
     },
     "execution_count": 17,
     "metadata": {},
     "output_type": "execute_result"
    }
   ],
   "source": [
    "from package import maths\n",
    "maths.addition(3,4)"
   ]
  },
  {
   "cell_type": "code",
   "execution_count": 18,
   "id": "a66b92f3",
   "metadata": {},
   "outputs": [
    {
     "data": {
      "text/plain": [
       "2"
      ]
     },
     "execution_count": 18,
     "metadata": {},
     "output_type": "execute_result"
    }
   ],
   "source": [
    "from package import maths\n",
    "maths.subtraction(4,2)"
   ]
  }
 ],
 "metadata": {
  "kernelspec": {
   "display_name": ".venv",
   "language": "python",
   "name": "python3"
  },
  "language_info": {
   "codemirror_mode": {
    "name": "ipython",
    "version": 3
   },
   "file_extension": ".py",
   "mimetype": "text/x-python",
   "name": "python",
   "nbconvert_exporter": "python",
   "pygments_lexer": "ipython3",
   "version": "3.11.3"
  }
 },
 "nbformat": 4,
 "nbformat_minor": 5
}
