{
 "cells": [
  {
   "cell_type": "markdown",
   "id": "4cf6125b",
   "metadata": {},
   "source": [
    "**Standard Library overview**\n",
    "Python's standard library is a vast collection of modules and packages that come bundled with python, providing a wide range of functionalities out of the box. here's an overview of some of the most commonly used modules and packages in the python standard library."
   ]
  },
  {
   "cell_type": "code",
   "execution_count": 8,
   "id": "8475d88f",
   "metadata": {},
   "outputs": [
    {
     "name": "stdout",
     "output_type": "stream",
     "text": [
      "5\n",
      "banana\n"
     ]
    }
   ],
   "source": [
    "import random\n",
    "print(random.randint(1,19))\n",
    "print(random.choice(['apple','mango','orange','banana']))\n"
   ]
  },
  {
   "cell_type": "code",
   "execution_count": 9,
   "id": "71a4feaf",
   "metadata": {},
   "outputs": [
    {
     "name": "stdout",
     "output_type": "stream",
     "text": [
      "e:\\Learning GenAI\\04_module_And_Packages\n"
     ]
    }
   ],
   "source": [
    "# File and directory  access\n",
    "import os\n",
    "print(os.getcwd())"
   ]
  },
  {
   "cell_type": "code",
   "execution_count": 10,
   "id": "aeaff05f",
   "metadata": {},
   "outputs": [],
   "source": [
    "os.mkdir('test_dir')"
   ]
  },
  {
   "cell_type": "code",
   "execution_count": 17,
   "id": "91e4ab1f",
   "metadata": {},
   "outputs": [
    {
     "data": {
      "text/plain": [
       "'destination.txt'"
      ]
     },
     "execution_count": 17,
     "metadata": {},
     "output_type": "execute_result"
    }
   ],
   "source": [
    "# high level of operations on files and collection of files\n",
    "import shutil #sh util\n",
    "shutil.copyfile('source.txt','destination.txt')"
   ]
  },
  {
   "cell_type": "code",
   "execution_count": 24,
   "id": "8c0232cb",
   "metadata": {},
   "outputs": [
    {
     "name": "stdout",
     "output_type": "stream",
     "text": [
      "{\"name\": \"sameer\", \"age\": 34}\n",
      "<class 'str'>\n",
      "{'name': 'sameer', 'age': 34}\n",
      "<class 'dict'>\n"
     ]
    }
   ],
   "source": [
    "# data serialization\n",
    "import json\n",
    "data={'name':'sameer','age':34}\n",
    "json_str=json.dumps(data)\n",
    "print(json_str)\n",
    "print(type(json_str))\n",
    "\n",
    "parsed_data=json.loads(json_str)\n",
    "print(parsed_data)\n",
    "print(type(parsed_data))"
   ]
  },
  {
   "cell_type": "code",
   "execution_count": 25,
   "id": "46476039",
   "metadata": {},
   "outputs": [
    {
     "name": "stdout",
     "output_type": "stream",
     "text": [
      "['name', 'age']\n",
      "['sameer', '32']\n"
     ]
    }
   ],
   "source": [
    "# CSV\n",
    "import csv\n",
    "with open('example.csv',mode='w',newline='') as file:\n",
    "    writer=csv.writer(file)\n",
    "    writer.writerow(['name','age'])\n",
    "    writer.writerow(['sameer','32'])\n",
    "\n",
    "with open('example.csv',mode='r') as file:\n",
    "    reader=csv.reader(file)\n",
    "    for row in reader:\n",
    "        print(row)"
   ]
  },
  {
   "cell_type": "code",
   "execution_count": 27,
   "id": "e816246e",
   "metadata": {},
   "outputs": [
    {
     "name": "stdout",
     "output_type": "stream",
     "text": [
      "2025-06-20 16:11:18.570189\n",
      "2025-06-19 16:11:18.570189\n"
     ]
    }
   ],
   "source": [
    "# datetime\n",
    "from datetime import datetime,timedelta\n",
    "now=datetime.now()\n",
    "print(now)\n",
    "\n",
    "yesterday=now-timedelta(days=1)\n",
    "print(yesterday)"
   ]
  },
  {
   "cell_type": "code",
   "execution_count": 31,
   "id": "c6a4ac6e",
   "metadata": {},
   "outputs": [
    {
     "name": "stdout",
     "output_type": "stream",
     "text": [
      "1750416452.5270517\n",
      "1750416454.5287423\n"
     ]
    }
   ],
   "source": [
    "# time\n",
    "import time \n",
    "print(time.time())\n",
    "time.sleep(2)\n",
    "print(time.time())"
   ]
  },
  {
   "cell_type": "code",
   "execution_count": null,
   "id": "24fc47ae",
   "metadata": {},
   "outputs": [
    {
     "name": "stdout",
     "output_type": "stream",
     "text": [
      "123\n"
     ]
    }
   ],
   "source": [
    "# regular expression\n",
    "import re\n",
    "pattern=r'\\d+' # d is digit\n",
    "text=\"there are 123 apples\"\n",
    "match=re.search(pattern,text)\n",
    "print(match.group())"
   ]
  }
 ],
 "metadata": {
  "kernelspec": {
   "display_name": ".venv",
   "language": "python",
   "name": "python3"
  },
  "language_info": {
   "codemirror_mode": {
    "name": "ipython",
    "version": 3
   },
   "file_extension": ".py",
   "mimetype": "text/x-python",
   "name": "python",
   "nbconvert_exporter": "python",
   "pygments_lexer": "ipython3",
   "version": "3.11.3"
  }
 },
 "nbformat": 4,
 "nbformat_minor": 5
}
