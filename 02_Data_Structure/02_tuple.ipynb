{
 "cells": [
  {
   "cell_type": "markdown",
   "id": "62271e10",
   "metadata": {},
   "source": [
    "**Tuple intro in python:**\n",
    "1. Introduction to tuples\n",
    "2. Creating Tuples\n",
    "3. Tuple Operations\n",
    "4. Immutable Nature of tuples\n",
    "5. Tuples operations\n",
    "6. Tuple Methods\n",
    "7. Packing and unpacking Tuples\n",
    "8. Nested Tuples\n",
    "9. Practical examples and common errors\n"
   ]
  },
  {
   "cell_type": "markdown",
   "id": "ef863d24",
   "metadata": {},
   "source": [
    "**Introduction to tuples**\n",
    "Tuples are ordered collections of items that are immutable. they are similar to lists, but their immutability makes them different."
   ]
  },
  {
   "cell_type": "code",
   "execution_count": 3,
   "id": "e1fc5b0f",
   "metadata": {},
   "outputs": [
    {
     "name": "stdout",
     "output_type": "stream",
     "text": [
      "()\n",
      "<class 'tuple'>\n"
     ]
    }
   ],
   "source": [
    "# creating table\n",
    "empty_list=()\n",
    "print(empty_list)\n",
    "print(type(empty_list))"
   ]
  },
  {
   "cell_type": "code",
   "execution_count": 6,
   "id": "61f36ec1",
   "metadata": {},
   "outputs": [
    {
     "name": "stdout",
     "output_type": "stream",
     "text": [
      "<class 'list'>\n",
      "()\n",
      "<class 'tuple'>\n"
     ]
    }
   ],
   "source": [
    "lst=list()\n",
    "print(type(lst))\n",
    "tpl=tuple()\n",
    "print(tpl)\n",
    "print(type(tpl))"
   ]
  },
  {
   "cell_type": "code",
   "execution_count": 7,
   "id": "34dbe902",
   "metadata": {},
   "outputs": [
    {
     "data": {
      "text/plain": [
       "(1, 2, 3, 4, 5, 6)"
      ]
     },
     "execution_count": 7,
     "metadata": {},
     "output_type": "execute_result"
    }
   ],
   "source": [
    "numbers=tuple([1,2,3,4,5,6])\n",
    "numbers"
   ]
  },
  {
   "cell_type": "code",
   "execution_count": 8,
   "id": "fd4d3d4e",
   "metadata": {},
   "outputs": [
    {
     "data": {
      "text/plain": [
       "[1, 2, 3, 4, 4, 6]"
      ]
     },
     "execution_count": 8,
     "metadata": {},
     "output_type": "execute_result"
    }
   ],
   "source": [
    "list([1,2,3,4,4,6])"
   ]
  },
  {
   "cell_type": "code",
   "execution_count": 19,
   "id": "327311b2",
   "metadata": {},
   "outputs": [
    {
     "name": "stdout",
     "output_type": "stream",
     "text": [
      "[3, 'sameer', False, 45]\n",
      "<class 'list'>\n"
     ]
    }
   ],
   "source": [
    "mixed_tuple=([3,\"sameer\",False,45])\n",
    "print(mixed_tuple)\n",
    "print(type(mixed_tuple))"
   ]
  },
  {
   "cell_type": "code",
   "execution_count": 11,
   "id": "70628937",
   "metadata": {},
   "outputs": [
    {
     "data": {
      "text/plain": [
       "1"
      ]
     },
     "execution_count": 11,
     "metadata": {},
     "output_type": "execute_result"
    }
   ],
   "source": [
    "numbers[0]"
   ]
  },
  {
   "cell_type": "code",
   "execution_count": 12,
   "id": "901dc1b9",
   "metadata": {},
   "outputs": [
    {
     "name": "stdout",
     "output_type": "stream",
     "text": [
      "1\n",
      "2\n",
      "6\n"
     ]
    }
   ],
   "source": [
    "print(numbers[0])\n",
    "print(numbers[1])\n",
    "print(numbers[-1])"
   ]
  },
  {
   "cell_type": "code",
   "execution_count": 13,
   "id": "b0eaa147",
   "metadata": {},
   "outputs": [
    {
     "data": {
      "text/plain": [
       "(1, 2, 3, 4)"
      ]
     },
     "execution_count": 13,
     "metadata": {},
     "output_type": "execute_result"
    }
   ],
   "source": [
    "numbers[0:4]"
   ]
  },
  {
   "cell_type": "code",
   "execution_count": 15,
   "id": "a6e6cccc",
   "metadata": {},
   "outputs": [
    {
     "data": {
      "text/plain": [
       "(6, 5, 4, 3, 2, 1)"
      ]
     },
     "execution_count": 15,
     "metadata": {},
     "output_type": "execute_result"
    }
   ],
   "source": [
    "# reverse\n",
    "numbers[::-1]"
   ]
  },
  {
   "cell_type": "code",
   "execution_count": null,
   "id": "09f05f70",
   "metadata": {},
   "outputs": [
    {
     "name": "stdout",
     "output_type": "stream",
     "text": [
      "(1, 2, 3, 4, 5, 6, 2, 3, 2, 3, 2, 0)\n"
     ]
    }
   ],
   "source": [
    "# tuple operations:\n",
    "number=tuple([2,3,2,3,2,0])\n",
    "# concatination\n",
    "concate=numbers+number\n",
    "print(concate)"
   ]
  },
  {
   "cell_type": "code",
   "execution_count": null,
   "id": "16d500c1",
   "metadata": {},
   "outputs": [
    {
     "data": {
      "text/plain": [
       "(1, 2, 3, 4, 5, 6, 1, 2, 3, 4, 5, 6, 1, 2, 3, 4, 5, 6)"
      ]
     },
     "execution_count": 22,
     "metadata": {},
     "output_type": "execute_result"
    }
   ],
   "source": [
    "numbers*3   ## repeat 3 times"
   ]
  },
  {
   "cell_type": "code",
   "execution_count": null,
   "id": "d6b199a7",
   "metadata": {},
   "outputs": [
    {
     "ename": "TypeError",
     "evalue": "'tuple' object does not support item assignment",
     "output_type": "error",
     "traceback": [
      "\u001b[31m---------------------------------------------------------------------------\u001b[39m",
      "\u001b[31mTypeError\u001b[39m                                 Traceback (most recent call last)",
      "\u001b[36mCell\u001b[39m\u001b[36m \u001b[39m\u001b[32mIn[23]\u001b[39m\u001b[32m, line 4\u001b[39m\n\u001b[32m      1\u001b[39m \u001b[38;5;66;03m# tuples are immumatable in nature\u001b[39;00m\n\u001b[32m      2\u001b[39m \u001b[38;5;66;03m# # tuples are immutable, meaning their elements cannot be changed once assigned.\u001b[39;00m\n\u001b[32m----> \u001b[39m\u001b[32m4\u001b[39m \u001b[43mnumber\u001b[49m\u001b[43m[\u001b[49m\u001b[32;43m3\u001b[39;49m\u001b[43m]\u001b[49m=\u001b[32m5\u001b[39m\n",
      "\u001b[31mTypeError\u001b[39m: 'tuple' object does not support item assignment"
     ]
    }
   ],
   "source": [
    "# tuples are immumatable in nature\n",
    "# # tuples are immutable, meaning their elements cannot be changed once assigned.\n",
    "\n",
    "# number[3]=5 shows error\n",
    "# solution\n",
    "# once convert it into list then update and again convert in tuple\n"
   ]
  },
  {
   "cell_type": "code",
   "execution_count": 30,
   "id": "03b57935",
   "metadata": {},
   "outputs": [
    {
     "name": "stdout",
     "output_type": "stream",
     "text": [
      "3\n",
      "3\n"
     ]
    }
   ],
   "source": [
    "# Tuples Methos:\n",
    "num=tuple([1,2,3,5,3,2,3])\n",
    "print(num.count(3)) # count repetation of number\n",
    "\n",
    "print(num.index(5)) # return index where element is present"
   ]
  },
  {
   "cell_type": "code",
   "execution_count": 31,
   "id": "4a5615f3",
   "metadata": {},
   "outputs": [
    {
     "name": "stdout",
     "output_type": "stream",
     "text": [
      "(1, 'hello', 3.14, True)\n",
      "1\n",
      "hello\n",
      "3.14\n",
      "True\n",
      "1\n",
      "hello\n",
      "3.14\n",
      "True\n"
     ]
    }
   ],
   "source": [
    "# packing and unpacking tuples\n",
    "packed_tuple=1,\"hello\",3.14,True\n",
    "print(packed_tuple)\n",
    "# unpacking\n",
    "a,b,c,d=packed_tuple\n",
    "print(a)\n",
    "print(b)\n",
    "print(c)\n",
    "print(d)\n",
    "# packing and unpacking with list\n",
    "packed_list=[1,\"hello\",3.14,True]\n",
    "a,b,c,d=packed_list\n",
    "print(a)\n",
    "print(b)\n",
    "print(c)\n",
    "print(d)    "
   ]
  },
  {
   "cell_type": "code",
   "execution_count": null,
   "id": "5629e970",
   "metadata": {},
   "outputs": [
    {
     "name": "stdout",
     "output_type": "stream",
     "text": [
      "(1, 2, 3, 'khan', 'kasie ho', 6, 4, 3, 7, 8)\n",
      "1\n",
      "[2, 3, 'khan', 'kasie ho', 6, 4, 3, 7]\n",
      "8\n"
     ]
    }
   ],
   "source": [
    "nums=1,2,3,\"khan\",\"kasie ho\",6,4,3,7,8\n",
    "print(nums)\n",
    "# a,b,c=nums    show error\n",
    "a,*b,c=nums\n",
    "print(a)\n",
    "print(b)\n",
    "print(c)"
   ]
  },
  {
   "cell_type": "code",
   "execution_count": 35,
   "id": "6bbdd3a0",
   "metadata": {},
   "outputs": [
    {
     "name": "stdout",
     "output_type": "stream",
     "text": [
      "(1, 2, 3, (4, 5, 6), 7, 8)\n",
      "(4, 5, 6)\n",
      "5\n",
      "1\n",
      "2\n",
      "3\n",
      "4\n",
      "5\n",
      "6\n",
      "7\n",
      "8\n"
     ]
    },
    {
     "ename": "ValueError",
     "evalue": "not enough values to unpack (expected 3, got 1)",
     "output_type": "error",
     "traceback": [
      "\u001b[31m---------------------------------------------------------------------------\u001b[39m",
      "\u001b[31mValueError\u001b[39m                                Traceback (most recent call last)",
      "\u001b[36mCell\u001b[39m\u001b[36m \u001b[39m\u001b[32mIn[35]\u001b[39m\u001b[32m, line 20\u001b[39m\n\u001b[32m     18\u001b[39m \u001b[38;5;28mprint\u001b[39m(h)\n\u001b[32m     19\u001b[39m \u001b[38;5;66;03m# nested tuple unpacking with * operator\u001b[39;00m\n\u001b[32m---> \u001b[39m\u001b[32m20\u001b[39m a,b,c,*(d,e,f),g,h=nexted_tuple\n\u001b[32m     21\u001b[39m \u001b[38;5;28mprint\u001b[39m(a)\n\u001b[32m     22\u001b[39m \u001b[38;5;28mprint\u001b[39m(b)\n",
      "\u001b[31mValueError\u001b[39m: not enough values to unpack (expected 3, got 1)"
     ]
    }
   ],
   "source": [
    "nexted_tuple=(1,2,3,(4,5,6),7,8)\n",
    "print(nexted_tuple)\n",
    "# accessing nested tuple\n",
    "nested_element=nexted_tuple[3]\n",
    "print(nested_element)\n",
    "# accessing element in nested tuple\n",
    "nested_element_value=nested_element[1]\n",
    "print(nested_element_value)\n",
    "# nested tuple unpacking\n",
    "a,b,c,(d,e,f),g,h=nexted_tuple\n",
    "print(a)\n",
    "print(b)\n",
    "print(c)\n",
    "print(d)\n",
    "print(e)\n",
    "print(f)\n",
    "print(g)\n",
    "print(h)\n",
    "# nested tuple unpacking with * operator\n",
    "a,b,c,*(d,e,f),g,h=nexted_tuple\n",
    "print(a)\n",
    "print(b)\n",
    "print(c)\n",
    "print(d)\n",
    "print(e)\n",
    "print(f)\n",
    "print(g)\n",
    "print(h)\n",
    "# nested tuple with list\n",
    "nested_list=(1,2,3,[4,5,6],7,8)\n",
    "print(nested_list)\n",
    "# accessing nested list\n",
    "nested_list_element=nested_list[3]\n",
    "print(nested_list_element)\n",
    "# accessing element in nested list\n",
    "nested_list_value=nested_list_element[1]\n",
    "print(nested_list_value)\n",
    "# nested list unpacking\n",
    "a,b,c,[d,e,f],g,h=nested_list\n",
    "print(a)\n",
    "print(b)\n",
    "print(c)\n",
    "print(d)\n",
    "print(e)\n",
    "print(f)\n",
    "print(g)\n",
    "print(h)\n",
    "# nested list unpacking with * operator\n",
    "a,b,c,*[d,e,f],g,h=nested_list\n",
    "print(a)\n",
    "print(b)"
   ]
  },
  {
   "cell_type": "code",
   "execution_count": 37,
   "id": "3f7eb055",
   "metadata": {},
   "outputs": [
    {
     "name": "stdout",
     "output_type": "stream",
     "text": [
      "1\n",
      "2\n",
      "3\n",
      "khan\n",
      "kasie ho\n",
      "6\n",
      "4\n",
      "3\n",
      "7\n",
      "8\n",
      "3 is present in the tuple\n",
      "Length of nums tuple: 10\n",
      "Converted list: [1, 2, 3, 'khan', 'kasie ho', 6, 4, 3, 7, 8]\n",
      "Converted tuple: (1, 2, 3, 'khan', 'kasie ho', 6, 4, 3, 7, 8)\n"
     ]
    },
    {
     "ename": "TypeError",
     "evalue": "'<' not supported between instances of 'str' and 'int'",
     "output_type": "error",
     "traceback": [
      "\u001b[31m---------------------------------------------------------------------------\u001b[39m",
      "\u001b[31mTypeError\u001b[39m                                 Traceback (most recent call last)",
      "\u001b[36mCell\u001b[39m\u001b[36m \u001b[39m\u001b[32mIn[37]\u001b[39m\u001b[32m, line 18\u001b[39m\n\u001b[32m     16\u001b[39m \u001b[38;5;28mprint\u001b[39m(\u001b[33m\"\u001b[39m\u001b[33mConverted tuple:\u001b[39m\u001b[33m\"\u001b[39m, nums_tuple)\n\u001b[32m     17\u001b[39m \u001b[38;5;66;03m# Sorting a tuple (requires conversion to a list)\u001b[39;00m\n\u001b[32m---> \u001b[39m\u001b[32m18\u001b[39m nums_sorted = \u001b[38;5;28mtuple\u001b[39m(\u001b[38;5;28;43msorted\u001b[39;49m\u001b[43m(\u001b[49m\u001b[43mnums_list\u001b[49m\u001b[43m)\u001b[49m)\n\u001b[32m     19\u001b[39m \u001b[38;5;28mprint\u001b[39m(\u001b[33m\"\u001b[39m\u001b[33mSorted tuple:\u001b[39m\u001b[33m\"\u001b[39m, nums_sorted)\n\u001b[32m     20\u001b[39m \u001b[38;5;66;03m# Finding the maximum and minimum values in a tuple\u001b[39;00m\n",
      "\u001b[31mTypeError\u001b[39m: '<' not supported between instances of 'str' and 'int'"
     ]
    }
   ],
   "source": [
    "# Itrating over tuples\n",
    "for item in nums:\n",
    "    print(item)\n",
    "# Checking membership in tuples \n",
    "if 3 in nums:\n",
    "    print(\"3 is present in the tuple\")\n",
    "else:\n",
    "    print(\"3 is not present in the tuple\")\n",
    "# Length of a tuple\n",
    "print(\"Length of nums tuple:\", len(nums))\n",
    "# Converting a tuple to a list\n",
    "nums_list = list(nums)\n",
    "print(\"Converted list:\", nums_list)\n",
    "# Converting a list to a tuple\n",
    "nums_tuple = tuple(nums_list)\n",
    "print(\"Converted tuple:\", nums_tuple)\n",
    "# Sorting a tuple (requires conversion to a list)\n",
    "nums_sorted = tuple(sorted(nums_list))\n",
    "print(\"Sorted tuple:\", nums_sorted)\n",
    "# Finding the maximum and minimum values in a tuple\n",
    "print(\"Maximum value in nums tuple:\", max(nums))\n",
    "print(\"Minimum value in nums tuple:\", min(nums))\n",
    "# Finding the sum of elements in a tuple\n",
    "print(\"Sum of elements in nums tuple:\", sum(nums))\n",
    "# Finding the average of elements in a tuple\n",
    "average = sum(nums) / len(nums)\n",
    "print(\"Average of elements in nums tuple:\", average)\n",
    "# Finding the product of elements in a tuple\n",
    "from functools import reduce\n",
    "def product(x, y):\n",
    "    return x * y\n",
    "nums_product = reduce(product, nums)\n",
    "print(\"Product of elements in nums tuple:\", nums_product)\n",
    "# Finding the index of an element in a tuple\n",
    "element_index = nums.index(3) if 3 in nums else -1\n",
    "print(\"Index of element 3 in nums tuple:\", element_index)\n",
    "# Finding the count of an element in a tuple\n",
    "element_count = nums.count(3)\n",
    "print(\"Count of element 3 in nums tuple:\", element_count)\n",
    "# Finding the first and last elements of a tuple\n",
    "first_element = nums[0]\n",
    "last_element = nums[-1]\n",
    "print(\"First element in nums tuple:\", first_element)\n",
    "print(\"Last element in nums tuple:\", last_element)"
   ]
  }
 ],
 "metadata": {
  "kernelspec": {
   "display_name": ".venv",
   "language": "python",
   "name": "python3"
  },
  "language_info": {
   "codemirror_mode": {
    "name": "ipython",
    "version": 3
   },
   "file_extension": ".py",
   "mimetype": "text/x-python",
   "name": "python",
   "nbconvert_exporter": "python",
   "pygments_lexer": "ipython3",
   "version": "3.11.3"
  }
 },
 "nbformat": 4,
 "nbformat_minor": 5
}
