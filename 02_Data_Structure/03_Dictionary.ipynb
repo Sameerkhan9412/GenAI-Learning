{
 "cells": [
  {
   "cell_type": "markdown",
   "id": "bd6f5776",
   "metadata": {},
   "source": [
    "**Introduction To Dictionary**\n",
    "Dictionary are ordered collections of items. thet are store data in key value pairs. keys must be unique and immutable (eg. strings,numbers, or tuples), while values can be of any type.\n",
    "Dictionary are mutable, so we can update, delete, add element\n"
   ]
  },
  {
   "cell_type": "code",
   "execution_count": 1,
   "id": "4f5fccdc",
   "metadata": {},
   "outputs": [
    {
     "name": "stdout",
     "output_type": "stream",
     "text": [
      "<class 'dict'>\n"
     ]
    }
   ],
   "source": [
    "# creating dictionary\n",
    "# ()->create empty tuples\n",
    "# []->create empty list\n",
    "# {}->create empty dictionary\n",
    "empty_dict = {}\n",
    "print(type(empty_dict))"
   ]
  },
  {
   "cell_type": "code",
   "execution_count": 2,
   "id": "f4e7018d",
   "metadata": {},
   "outputs": [
    {
     "name": "stdout",
     "output_type": "stream",
     "text": [
      "{}\n"
     ]
    }
   ],
   "source": [
    "empty_dict2 = dict()\n",
    "print(empty_dict2)"
   ]
  },
  {
   "cell_type": "code",
   "execution_count": null,
   "id": "714ff0e2",
   "metadata": {},
   "outputs": [
    {
     "name": "stdout",
     "output_type": "stream",
     "text": [
      "{'name': 'sameer', 'age': 20, 'courses': ['BCA', 'MCA', 'BBA'], 'is_active': True, 'address': {'city': 'Aligarh', 'state': 'Uttar Pradesh', 'country': 'India'}}\n",
      "sameer\n",
      "['BCA', 'MCA', 'BBA']\n",
      "Aligarh\n",
      "{'name': 'sameer', 'age': 20, 'courses': ['BCA', 'MCA', 'BBA'], 'is_active': True, 'address': {'city': 'Aligarh', 'state': 'Uttar Pradesh', 'country': 'India'}, 'email': 'sameerkhann9412@gmail.com'}\n",
      "{'name': 'sameer', 'age': 21, 'courses': ['BCA', 'MCA', 'BBA'], 'is_active': True, 'address': {'city': 'Aligarh', 'state': 'Uttar Pradesh', 'country': 'India'}, 'email': 'sameerkhann9412@gmail.com'}\n",
      "{'name': 'sameer', 'age': 21, 'courses': ['BCA', 'MCA', 'BBA'], 'address': {'city': 'Aligarh', 'state': 'Uttar Pradesh', 'country': 'India'}, 'email': 'sameerkhann9412@gmail.com'}\n",
      "True\n",
      "False\n",
      "name: sameer\n",
      "age: 21\n",
      "courses: ['BCA', 'MCA', 'BBA']\n",
      "address: {'city': 'Aligarh', 'state': 'Uttar Pradesh', 'country': 'India'}\n",
      "email: sameerkhann9412@gmail.com\n",
      "dict_keys(['name', 'age', 'courses', 'address', 'email'])\n",
      "dict_values(['sameer', 21, ['BCA', 'MCA', 'BBA'], {'city': 'Aligarh', 'state': 'Uttar Pradesh', 'country': 'India'}, 'sameerkhann9412@gmail.com'])\n",
      "dict_items([('name', 'sameer'), ('age', 21), ('courses', ['BCA', 'MCA', 'BBA']), ('address', {'city': 'Aligarh', 'state': 'Uttar Pradesh', 'country': 'India'}), ('email', 'sameerkhann9412@gmail.com')])\n",
      "{'name': 'sameer', 'age': 21, 'courses': ['BCA', 'MCA', 'BBA'], 'address': {'city': 'Aligarh', 'state': 'Uttar Pradesh', 'country': 'India'}, 'email': 'sameerkhann9412@gmail.com'}\n",
      "{'name': 'sameer', 'age': 21, 'courses': ['BCA', 'MCA', 'BBA'], 'address': {'city': 'Aligarh', 'state': 'Uttar Pradesh', 'country': 'India'}, 'email': 'sameerkhann9412@gmail.com', 'hobbies': ['reading', 'gaming'], 'graduation_year': 2024}\n",
      "{'student1': {'name': 'Alice', 'age': 22}, 'student2': {'name': 'Bob', 'age': 23}}\n",
      "Alice\n",
      "23\n",
      "{1: 1, 2: 4, 3: 9, 4: 16, 5: 25}\n",
      "{'a': 1, 'b': 3, 'c': 4}\n",
      "None\n",
      "sameerkhann9412@gmail.com\n",
      "sameer\n",
      "Not provided\n",
      "{'name': 'sameer', 'age': 21, 'courses': ['BCA', 'MCA', 'BBA'], 'address': {'city': 'Aligarh', 'state': 'Uttar Pradesh', 'country': 'India'}, 'email': 'sameerkhann9412@gmail.com', 'hobbies': ['reading', 'gaming'], 'graduation_year': 2024, 'phone': 'Not provided'}\n",
      "sameerkhann9412@gmail.com\n"
     ]
    }
   ],
   "source": [
    "students = {\n",
    "    \"name\": \"sameer\",\n",
    "    \"age\": 20,\n",
    "    \"courses\": [\"BCA\", \"MCA\", \"BBA\"],\n",
    "    \"is_active\": True,\n",
    "    \"address\": {\n",
    "        \"city\": \"Aligarh\",\n",
    "        \"state\": \"Uttar Pradesh\",\n",
    "        \"country\": \"India\"\n",
    "    }\n",
    "}\n",
    "print(students)\n",
    "# Accessing values in a dictionary\n",
    "print(students[\"name\"])\n",
    "print(students[\"courses\"])\n",
    "print(students[\"address\"][\"city\"])\n",
    "# Adding new key-value pairs\n",
    "students[\"email\"] = \"sameerkhann9412@gmail.com\"\n",
    "print(students)\n",
    "# Updating existing key-value pairs\n",
    "students[\"age\"] = 21\n",
    "print(students)\n",
    "# Deleting key-value pairs\n",
    "del students[\"is_active\"]\n",
    "print(students)\n",
    "# Checking if a key exists\n",
    "print(\"name\" in students)  # True\n",
    "print(\"is_active\" in students)  # False\n",
    "# Iterating through a dictionary\n",
    "for key, value in students.items():\n",
    "    print(f\"{key}: {value}\")\n",
    "# Getting keys, values, and items\n",
    "print(students.keys())  # Returns a view of keys\n",
    "print(students.values())  # Returns a view of values\n",
    "print(students.items())  # Returns a view of key-value pairs\n",
    "# Copying a dictionary\n",
    "students_copy = students.copy()\n",
    "print(students_copy)\n",
    "# Merging dictionaries\n",
    "new_info = {\n",
    "    \"hobbies\": [\"reading\", \"gaming\"],\n",
    "    \"graduation_year\": 2024\n",
    "}\n",
    "students.update(new_info)\n",
    "print(students)\n",
    "# Nested dictionaries\n",
    "nested_dict = {\n",
    "    \"student1\": {\n",
    "        \"name\": \"Alice\",\n",
    "        \"age\": 22\n",
    "    },\n",
    "    \"student2\": {\n",
    "        \"name\": \"Bob\",\n",
    "        \"age\": 23\n",
    "    }\n",
    "}\n",
    "print(nested_dict)\n",
    "# Accessing nested dictionary values\n",
    "print(nested_dict[\"student1\"][\"name\"])  # Alice\n",
    "print(nested_dict[\"student2\"][\"age\"])  # 23\n",
    "# Dictionary comprehension\n",
    "squared_numbers = {x: x**2 for x in range(1, 6)}\n",
    "print(squared_numbers)  # {1: 1, 2: 4, 3: 9, 4: 16, 5: 25}\n",
    "# Merging two dictionaries using dictionary unpacking\n",
    "dict1 = {\"a\": 1, \"b\": 2}\n",
    "dict2 = {\"b\": 3, \"c\": 4}\n",
    "merged_dict = {**dict1, **dict2}\n",
    "print(merged_dict)  # {'a': 1, 'b': 3, 'c': 4}\n",
    "# Using the get method to avoid KeyError\n",
    "print(students.get(\"khan\"))  # return None\n",
    "print(students.get(\"khan\", \"Key not found\"))  # Key not found\n",
    "print(students.get(\"email\", \"Email not found\"))  # Email not found\n",
    "print(students.get(\"name\", \"Name not found\"))  # sameer\n",
    "# Using setdefault to get a value or set a default\n",
    "print(students.setdefault(\"phone\", \"Not provided\"))  # Not provided\n",
    "print(students)  # Now includes phone key\n",
    "# Using pop to remove a key and return its value\n",
    "removed_email = students.pop(\"email\", \"Email not found\")\n",
    "print(removed_email) "
   ]
  },
  {
   "cell_type": "code",
   "execution_count": 3,
   "id": "89853d74",
   "metadata": {},
   "outputs": [
    {
     "name": "stdout",
     "output_type": "stream",
     "text": [
      "{'name': 'sameer', 'age': 20, 'courses': ['BCA', 'MCA', 'BBA']}\n",
      "sameer\n",
      "['BCA', 'MCA', 'BBA']\n",
      "BCA\n",
      "MCA\n",
      "BBA\n",
      "20\n",
      "{'name': 'sameer', 'courses': ['BCA', 'MCA', 'BBA']}\n",
      "Age not found\n",
      "sameer\n"
     ]
    }
   ],
   "source": [
    "hello={\"name\": \"sameer\", \"age\": 20, \"courses\": [\"BCA\", \"MCA\", \"BBA\"]}\n",
    "print(hello)  # {'name': 'sameer', 'age': 20, 'courses': ['BCA', 'MCA', 'BBA']}\n",
    "print(hello[\"name\"])  # sameer\n",
    "print(hello[\"courses\"])  # ['BCA', 'MCA', 'BBA']\n",
    "print(hello[\"courses\"][0])  # BCA\n",
    "print(hello[\"courses\"][1])  # MCA\n",
    "print(hello[\"courses\"][2])  # BBA\n",
    "print(hello[\"age\"])  # 20\n",
    "del hello[\"age\"]  # Deleting the age key\n",
    "print(hello)  # {'name': 'sameer', 'courses': ['BCA', 'MCA', 'BBA']}\n",
    "print(hello.get(\"age\", \"Age not found\"))  # Age not found\n",
    "print(hello.get(\"name\", \"Name not found\"))  # sameer"
   ]
  },
  {
   "cell_type": "code",
   "execution_count": 6,
   "id": "11b0a71a",
   "metadata": {},
   "outputs": [
    {
     "name": "stdout",
     "output_type": "stream",
     "text": [
      "dict_keys(['name', 'courses'])\n",
      "dict_values(['sameer', ['BCA', 'MCA', 'BBA']])\n"
     ]
    },
    {
     "data": {
      "text/plain": [
       "dict_items([('name', 'sameer'), ('courses', ['BCA', 'MCA', 'BBA'])])"
      ]
     },
     "execution_count": 6,
     "metadata": {},
     "output_type": "execute_result"
    }
   ],
   "source": [
    "# accessing keys and values\n",
    "keys=hello.keys()\n",
    "print(keys)  # dict_keys(['name', 'courses'])\n",
    "values=hello.values()\n",
    "print(values)  # dict_values(['sameer', ['BCA', 'MCA', 'BBA']])\n",
    "hello.items()"
   ]
  },
  {
   "cell_type": "code",
   "execution_count": 10,
   "id": "5375eea2",
   "metadata": {},
   "outputs": [
    {
     "name": "stdout",
     "output_type": "stream",
     "text": [
      "ID: student1, Name: Alice, Age: 22\n",
      "ID: student2, Name: Bob, Age: 23\n",
      "{}\n"
     ]
    }
   ],
   "source": [
    "# iterating over nested dictionary\n",
    "students = {\n",
    "    \"student1\": {\n",
    "        \"name\": \"Alice\",\n",
    "        \"age\": 22\n",
    "    },\n",
    "    \"student2\": {\n",
    "        \"name\": \"Bob\",\n",
    "        \"age\": 23\n",
    "    }\n",
    "}\n",
    "for student_id, student_info in students.items():\n",
    "    print(f\"ID: {student_id}, Name: {student_info['name']}, Age: {student_info['age']}\")\n",
    "# ID: student1, Name: Alice, Age: 22\n",
    "# ID: student2, Name: Bob, Age: 23\n",
    "# Using dictionary comprehension to create a new dictionary\n",
    "squared_dict = {key: value**2 for key, value in hello.items() if isinstance(value, int)}\n",
    "print(squared_dict)  # {'age': 400} if 'age' was present, otherwise empty"
   ]
  },
  {
   "cell_type": "code",
   "execution_count": 11,
   "id": "581b8de5",
   "metadata": {},
   "outputs": [
    {
     "name": "stdout",
     "output_type": "stream",
     "text": [
      "{1: 2, 2: 3, 3: 2, 4: 1, 5: 1}\n",
      "Counter({2: 3, 1: 2, 3: 2, 4: 1, 5: 1})\n"
     ]
    }
   ],
   "source": [
    "# Practicale example:\n",
    "# user dictionary to count frequency of element in list\n",
    "numbers= [1, 2, 3, 2, 1, 4, 5, 3, 2]\n",
    "frequency = {}\n",
    "for number in numbers:\n",
    "    if number in frequency:\n",
    "        frequency[number] += 1\n",
    "    else:\n",
    "        frequency[number] = 1\n",
    "print(frequency)  # {1: 2, 2: 3, 3: 2, 4: 1, 5: 1}\n",
    "# Using collections.Counter for frequency count\n",
    "from collections import Counter\n",
    "frequency_counter = Counter(numbers)\n",
    "print(frequency_counter)  # Counter({2: 3, 1: 2, 3: 2, 4: 1, 5: 1})"
   ]
  }
 ],
 "metadata": {
  "kernelspec": {
   "display_name": ".venv",
   "language": "python",
   "name": "python3"
  },
  "language_info": {
   "codemirror_mode": {
    "name": "ipython",
    "version": 3
   },
   "file_extension": ".py",
   "mimetype": "text/x-python",
   "name": "python",
   "nbconvert_exporter": "python",
   "pygments_lexer": "ipython3",
   "version": "3.11.3"
  }
 },
 "nbformat": 4,
 "nbformat_minor": 5
}
