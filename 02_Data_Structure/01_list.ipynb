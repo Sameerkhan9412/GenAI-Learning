{
 "cells": [
  {
   "cell_type": "markdown",
   "id": "6998dace",
   "metadata": {},
   "source": [
    "**Introduction to List**\n",
    "A list is a built-in data type in Python that allows you to store multiple items in a single variable. Lists are ordered, changeable (mutable), and allow duplicate values.\n",
    "ex . my_list = [1, 2, 3, 4, 5]\n",
    "\n",
    "1. Lists are ordered , mutable collections of items.\n",
    "2. They are contain items of different data types.\n",
    "3. You can store different data types in a list:\n",
    "\n",
    "Outline:\n",
    "1. Introduction to lists\n",
    "2. Creating lists\n",
    "3. Accessing list elements.\n",
    "4. MOdiifying list elements.\n",
    "5. List methods.\n",
    "6. Slicing Lists.\n",
    "7. Iterating over list\n",
    "8. list comprehensions\n",
    "9. Nested lists.\n",
    "10. practical example\n"
   ]
  },
  {
   "cell_type": "code",
   "execution_count": 4,
   "id": "b560dc45",
   "metadata": {},
   "outputs": [
    {
     "name": "stdout",
     "output_type": "stream",
     "text": [
      "['sameer', 'khan', 1, False]\n"
     ]
    }
   ],
   "source": [
    "list=[\"sameer\",\"khan\",1,False]\n",
    "print(list)\n"
   ]
  },
  {
   "cell_type": "code",
   "execution_count": 8,
   "id": "847a29be",
   "metadata": {},
   "outputs": [
    {
     "name": "stdout",
     "output_type": "stream",
     "text": [
      "apple\n",
      "banana\n",
      "cherry\n",
      "cherry\n",
      "banana\n",
      "['apple', 'banana', 'cherry']\n",
      "['banana', 'cherry']\n",
      "['banana', 'cherry']\n",
      "['apple', 'banana']\n",
      "['apple', 'banana', 'cherry', 'orange']\n",
      "['apple', 'kiwi', 'banana', 'cherry', 'orange']\n",
      "['apple', 'kiwi', 'cherry', 'orange']\n",
      "['apple', 'kiwi', 'cherry']\n",
      "[]\n",
      "['apple', 'banana', 'cherry']\n",
      "['cherry', 'kiwi', 'apple']\n"
     ]
    }
   ],
   "source": [
    "fruits = [\"apple\", \"banana\", \"cherry\"]\n",
    "print(fruits[0])  # Output: apple\n",
    "print(fruits[1])  # Output: banana\n",
    "print(fruits[2])  # Output: cherry\n",
    "print(fruits[-1])  # Output: cherry\n",
    "print(fruits[-2])  # Output: banana\n",
    "print(fruits)\n",
    "print(fruits[1:3])  # Output: ['banana', 'cherry']\n",
    "print(fruits[1:])  # Output: ['banana', 'cherry']\n",
    "print(fruits[:2])  # Output: ['apple', 'banana']\n",
    "fruits.append(\"orange\")\n",
    "print(fruits)  # Output: ['apple', 'banana', 'cherry', 'orange']\n",
    "fruits.insert(1, \"kiwi\")\n",
    "print(fruits)  # Output: ['apple', 'kiwi', 'banana', 'cherry', 'orange']\n",
    "fruits.remove(\"banana\")\n",
    "print(fruits)  # Output: ['apple', 'kiwi', 'cherry', 'orange']\n",
    "fruits.pop()    # removes the last item and return it.\n",
    "print(fruits)  # Output: ['apple', 'kiwi', 'cherry']\n",
    "fruits.clear()\n",
    "print(fruits)  # Output: []\n",
    "fruits = [\"apple\", \"banana\", \"cherry\"]\n",
    "fruits.sort()\n",
    "print(fruits)  # Output: ['apple', 'banana', 'cherry']\n",
    "fruits.reverse()  \n",
    "fruits[1] = \"kiwi\"\n",
    "print(fruits)  # Output: ['cherry', 'kiwi', 'apple']\n",
    "index=fruits.index(\"kiwi\")\n",
    "print(index)  # Output: 1\n",
    "fruits.extend([\"mango\", \"orange\"])\n",
    "print(fruits)  # Output: ['cherry', 'kiwi', 'apple', 'mango', 'orange']\n",
    "# List Comprehensions\n",
    "squares = [x**2 for x in range(10)]\n",
    "print(squares)  # Output: [0, 1, 4, 9, 16, 25, 36, 49, 64, 81]\n",
    "# Nested Lists\n",
    "nested_list = [[1, 2, 3], [4, 5, 6], [7, 8, 9]]\n",
    "print(nested_list[0])  # Output: [1, 2, 3]\n",
    "print(nested_list[1][2])  # Output: 6\n",
    "\n",
    "fruits.count(\"kiwi\")  # Count occurrences of \"kiwi\"\n",
    "fruits = [\"apple\", \"banana\", \"cherry\", \"kiwi\", \"banana\"]\n",
    "print(fruits.count(\"banana\"))  # Output: 2\n",
    "# List Copying\n",
    "fruits_copy = fruits.copy()\n",
    "print(fruits_copy)  # Output: ['apple', 'banana', 'cherry', 'kiwi', 'banana']\n"
   ]
  },
  {
   "cell_type": "code",
   "execution_count": null,
   "id": "89aed9b4",
   "metadata": {},
   "outputs": [],
   "source": [
    "# Slicing lists\n",
    "numbers = [1, 2, 3, 4, 5]\n",
    "print(numbers[1:4])  # Output: [2, 3, 4]\n",
    "# List Concatenation\n",
    "list1 = [1, 2, 3]\n",
    "list2 = [4, 5, 6]\n",
    "list3 = list1 + list2\n",
    "print(list3)  # Output: [1, 2, 3, 4, 5, 6]\n",
    "# List Repetition   \n",
    "list4 = [0] * 5\n",
    "print(list4)  # Output: [0, 0, 0, 0, 0]\n",
    "# List Membership\n",
    "list5 = [1, 2, 3, 4, 5] \n",
    "\n",
    "print(numbers[2:4])  # Output: [3, 4]\n",
    "print(numbers[2:5])  # Output: [3, 4, 5]\n",
    "print(numbers[:3])  # Output: [1, 2, 3]\n",
    "print(number[2:])  # Output: [3, 4, 5]\n",
    "print(numbers[::2])  # Output: [1, 3, 5] (every second element)\n",
    "print(numbers[::-1])  # Output: [5, 4, 3, 2, 1] (reversed list)"
   ]
  },
  {
   "cell_type": "code",
   "execution_count": null,
   "id": "1e843b0b",
   "metadata": {},
   "outputs": [],
   "source": [
    "print(numbers[::3])  # Output: [1, 4] (every third element)"
   ]
  },
  {
   "cell_type": "code",
   "execution_count": null,
   "id": "d06d43f5",
   "metadata": {},
   "outputs": [],
   "source": [
    "# Iterating through a list\n",
    "for fruit in fruits:\n",
    "    print(fruit)\n",
    "\n",
    "# iterating with index\n",
    "for index, fruit in enumerate(fruits):\n",
    "    print(f\"Index: {index}, Fruit: {fruit}\")\n",
    "  \n",
    "# List Comprehensions with Conditions\n",
    "# basic syntax:[expression for item in iterable if condition]\n",
    "# List Comprehensions \n",
    "even_squares = [x**2 for x in range(10) if x % 2 == 0]\n",
    "print(even_squares)  # Output: [0, 4, 16, 36, 64]\n",
    "\n",
    "# List of Lists\n",
    "list_of_lists = [[1, 2], [3, 4], [5, 6]]\n",
    "print(list_of_lists[1])  # Output: [3, 4]\n",
    "\n",
    "# Flattening a List of Lists\n",
    "flattened = [item for sublist in list_of_lists for item in sublist]\n",
    "print(flattened)  # Output: [1, 2, 3, 4, 5, 6]\n",
    "\n",
    "# List Functions\n",
    "print(len(fruits))  # Output: Length of the list\n",
    "print(max(fruits))  # Output: Maximum element in the list\n",
    "print(min(fruits))  # Output: Minimum element in the list\n",
    "print(sum([1, 2, 3, 4, 5]))  # Output: Sum of the list elements\n",
    "\n",
    "\n",
    "\n",
    "# List Sorting with a Custom Key\n",
    "def custom_sort(x):\n",
    "    return len(x)  # Sort by length of the string\n",
    "fruits = [\"apple\", \"banana\", \"kiwi\", \"cherry\"]\n",
    "fruits.sort(key=custom_sort)\n",
    "print(fruits)  # Output: ['kiwi', 'apple', 'banana', 'cherry']\n",
    "\n",
    "# List Sorting in Descending Order\n",
    "fruits.sort(reverse=True)\n",
    "print(fruits)  # Output: ['kiwi', 'cherry', 'banana', 'apple']\n",
    "\n",
    "# List Sorting with a Lambda Function\n",
    "fruits.sort(key=lambda x: x[1])  # Sort by the second character of each string\n",
    "print(fruits)  # Output: ['kiwi', 'banana', 'cherry', 'apple']\n",
    "\n",
    "# List Sorting with a Custom Function\n",
    "def custom_sort_function(x):\n",
    "    return x.lower()  # Sort case-insensitively\n",
    "fruits.sort(key=custom_sort_function)\n",
    "print(fruits)  # Output: ['apple', 'banana', 'cherry', 'kiwi']\n",
    "\n",
    "# List Sorting with a Custom Function and Reverse Order\n",
    "def custom_sort_function_reverse(x):\n",
    "    return x.lower()  # Sort case-insensitively\n",
    "fruits.sort(key=custom_sort_function_reverse, reverse=True)\n",
    "print(fruits)  # Output: ['kiwi', 'cherry', 'banana', 'apple']\n",
    "\n",
    "# List Sorting with a Custom Function and Multiple Criteria\n",
    "def custom_sort_multiple(x):\n",
    "    return (len(x), x.lower())  # Sort by length, then alphabetically\n",
    "\n",
    "fruits.sort(key=custom_sort_multiple)\n",
    "print(fruits)  # Output: ['kiwi', 'apple', 'banana', 'cherry']"
   ]
  },
  {
   "cell_type": "code",
   "execution_count": null,
   "id": "79e1c455",
   "metadata": {},
   "outputs": [],
   "source": [
    "# nested comprehensions\n",
    "nested_list = [[1, 2, 3], [4, 5, 6], [7, 8, 9]]\n",
    "flattened_list = [item for sublist in nested_list for item in sublist]\n",
    "print(flattened_list)  # Output: [1, 2, 3, 4, 5, 6, 7, 8, 9]\n",
    "# List Comprehensions with Nested Loops\n",
    "nested_comprehension = [[x * y for y in range(3)] for x in range(3)]\n",
    "print(nested_comprehension)  # Output: [[0, 0, 0], [0, 1, 2], [0, 2, 4]]\n",
    "# List Comprehensions with Multiple Conditions\n",
    "multiple_conditions = [x for x in range(20) if x % 2 == 0 if x > 5]"
   ]
  },
  {
   "cell_type": "code",
   "execution_count": null,
   "id": "18c7cedb",
   "metadata": {},
   "outputs": [],
   "source": [
    "# list comprehensions with functions calls\n",
    "words = [\"hello\", \"world\", \"python\", \"is\", \"awesome\"]\n",
    "lenths = [len(word) for word in words]\n",
    "print(lenths)  # Output: [5, 5, 6, 2, 7]"
   ]
  }
 ],
 "metadata": {
  "kernelspec": {
   "display_name": ".venv",
   "language": "python",
   "name": "python3"
  },
  "language_info": {
   "codemirror_mode": {
    "name": "ipython",
    "version": 3
   },
   "file_extension": ".py",
   "mimetype": "text/x-python",
   "name": "python",
   "nbconvert_exporter": "python",
   "pygments_lexer": "ipython3",
   "version": "3.11.3"
  }
 },
 "nbformat": 4,
 "nbformat_minor": 5
}
