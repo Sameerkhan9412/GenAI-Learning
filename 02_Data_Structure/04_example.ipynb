{
 "cells": [
  {
   "cell_type": "markdown",
   "id": "1e8528b9",
   "metadata": {},
   "source": [
    "**Real world example using lists in python**\n",
    "lists are one of the most commonly used data structures in python, thanks to their versability and ease of use.\n",
    "Here are several practical examples that illustrate their use in real world scenerio.\n",
    "\n",
    "**Example 1: Manage a To Do List**\n",
    "create a todo list to keep track of tasks."
   ]
  },
  {
   "cell_type": "code",
   "execution_count": 14,
   "id": "e86b8195",
   "metadata": {},
   "outputs": [
    {
     "name": "stdout",
     "output_type": "stream",
     "text": [
      "['buy Grocesries', 'Clean the House', 'Pay bills', 'Schedule meeting with collegemates', 'doing dsa']\n",
      "['buy Grocesries', 'Clean the House', 'Pay bills', 'Schedule meeting with collegemates', 'doing dsa']\n",
      "Dont forget to pay the utility bills\n",
      "pending task isbuy Grocesries\n",
      "pending task isClean the House\n",
      "pending task isPay bills\n",
      "pending task isSchedule meeting with collegemates\n",
      "pending task isdoing dsa\n"
     ]
    }
   ],
   "source": [
    "todo_List=[\"buy Grocesries\",\"Clean the House\",\"Pay bills\"]\n",
    "# Adding to do task\n",
    "todo_List.append(\"Schedule meeting with collegemates\")\n",
    "todo_List.append(\"doing dsa\")\n",
    "\n",
    "print(todo_List)\n",
    "\n",
    "# romoving a complete tasks\\\n",
    "# todo_List.remove(\"Pay bills\")\n",
    "print(todo_List)\n",
    "\n",
    "# checking if a task is in the list\n",
    "if \"Pay bills\" in todo_List:\n",
    "    print(\"Dont forget to pay the utility bills\")\n",
    "\n",
    "# todo list remaining\n",
    "for list in todo_List:\n",
    "    print(\"pending task is\"+list) # print(\"pending task is \",list) both are valid"
   ]
  },
  {
   "cell_type": "markdown",
   "id": "dbe930d5",
   "metadata": {},
   "source": [
    "**Example 2: Orgainizing students grades**\n",
    "->create a list to store and calculate average grades for students\n",
    "\n"
   ]
  },
  {
   "cell_type": "code",
   "execution_count": null,
   "id": "9ac0bdc2",
   "metadata": {},
   "outputs": [],
   "source": [
    "# organizing student grades\n",
    "grades = [90, 80, 70, 60, 50, 40, 30, 20, 10]\n",
    "# adding a new grade\n",
    "grades.append(100)\n",
    "# removing a grade\n",
    "grades.remove(10)\n",
    "# checking if a grade is in the list\n",
    "if 90 in grades:\n",
    "    print(\"You have a grade of 90\")\n",
    "# printing all grades\n",
    "for grade in grades:\n",
    "    print(\"Your grade is\", grade)  # print(\"Your grade is \"+str(grade)) both are valid\n",
    "# organizing student names\n",
    "names = [\"Alice\", \"Bob\", \"Charlie\", \"David\"]\n",
    "# adding a new name\n",
    "names.append(\"Eve\")\n",
    "# removing a name\n",
    "names.remove(\"Charlie\")\n",
    "# checking if a name is in the list\n",
    "if \"Alice\" in names:\n",
    "    print(\"Alice is in the class\")\n",
    "# printing all names\n",
    "for name in names:\n",
    "    print(\"Student name is\", name)  # print(\"Student name is \"+name) both are valid"
   ]
  }
 ],
 "metadata": {
  "kernelspec": {
   "display_name": ".venv",
   "language": "python",
   "name": "python3"
  },
  "language_info": {
   "codemirror_mode": {
    "name": "ipython",
    "version": 3
   },
   "file_extension": ".py",
   "mimetype": "text/x-python",
   "name": "python",
   "nbconvert_exporter": "python",
   "pygments_lexer": "ipython3",
   "version": "3.11.3"
  }
 },
 "nbformat": 4,
 "nbformat_minor": 5
}
