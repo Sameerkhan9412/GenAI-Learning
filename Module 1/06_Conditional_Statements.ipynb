{
 "cells": [
  {
   "cell_type": "markdown",
   "id": "13e998b1",
   "metadata": {},
   "source": [
    "Outline:\n",
    "1. Introduction to conditional statments\n",
    "2. if Statement\n",
    "3. else statement\n",
    "4. elif statement\n",
    "5. Nested Conditional Statement\n",
    "6. Practical Examples\n",
    "7. Common errors and best practices\n"
   ]
  },
  {
   "cell_type": "code",
   "execution_count": 2,
   "id": "80ef8c7b",
   "metadata": {},
   "outputs": [
    {
     "name": "stdout",
     "output_type": "stream",
     "text": [
      "You are an adult.\n"
     ]
    }
   ],
   "source": [
    "# if statement\n",
    "age=20\n",
    "if age >= 18:\n",
    "    print(\"You are an adult.\")\n",
    "else:\n",
    "    print(\"You are a minor.\")"
   ]
  },
  {
   "cell_type": "code",
   "execution_count": 3,
   "id": "5d2e1dbb",
   "metadata": {},
   "outputs": [
    {
     "name": "stdout",
     "output_type": "stream",
     "text": [
      "You are a teenager.\n"
     ]
    }
   ],
   "source": [
    "#elif statement\n",
    "# elif statment is used to check multiple conditions\n",
    "age = 16\n",
    "if age < 13:        \n",
    "    print(\"You are a child.\")\n",
    "elif age < 18:\n",
    "    print(\"You are a teenager.\")\n",
    "else:\n",
    "    print(\"You are an adult.\")  "
   ]
  },
  {
   "cell_type": "code",
   "execution_count": 4,
   "id": "a22f7975",
   "metadata": {},
   "outputs": [
    {
     "name": "stdout",
     "output_type": "stream",
     "text": [
      "You are an adult.\n",
      "You cannot drink alcohol yet.\n"
     ]
    }
   ],
   "source": [
    "# nested conditional statements\n",
    "# nested conditional statements are used to check multiple conditions within another condition\n",
    "age = 20\n",
    "if age >= 18:\n",
    "    print(\"You are an adult.\")\n",
    "    if age >= 21:\n",
    "        print(\"You can drink alcohol.\")\n",
    "    else:\n",
    "        print(\"You cannot drink alcohol yet.\")\n",
    "else:\n",
    "    print(\"You are a minor.\")\n",
    "    if age >= 16:\n",
    "        print(\"You can drive with a permit.\")\n",
    "    else:\n",
    "        print(\"You cannot drive yet.\")  "
   ]
  },
  {
   "cell_type": "code",
   "execution_count": null,
   "id": "1de0ffeb",
   "metadata": {},
   "outputs": [],
   "source": []
  }
 ],
 "metadata": {
  "kernelspec": {
   "display_name": ".venv",
   "language": "python",
   "name": "python3"
  },
  "language_info": {
   "codemirror_mode": {
    "name": "ipython",
    "version": 3
   },
   "file_extension": ".py",
   "mimetype": "text/x-python",
   "name": "python",
   "nbconvert_exporter": "python",
   "pygments_lexer": "ipython3",
   "version": "3.11.3"
  }
 },
 "nbformat": 4,
 "nbformat_minor": 5
}
