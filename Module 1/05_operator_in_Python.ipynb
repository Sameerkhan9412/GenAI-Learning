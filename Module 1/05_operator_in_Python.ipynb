{
 "cells": [
  {
   "cell_type": "markdown",
   "id": "3f0a8a62",
   "metadata": {},
   "source": [
    "Outline:\n",
    "1. introduction to operators\n",
    "2. arithmetic operators\n",
    "    a. Addition\n",
    "b. Subtraction\n",
    "c. Multiplication\n",
    "d. Division\n",
    "e. Floor Divsion\n",
    "f. Modulus\n",
    "g. Exponentiation\n",
    "3. comparision operators\n",
    "4. logical operators (AND, OR,NOT)\n"
   ]
  },
  {
   "cell_type": "code",
   "execution_count": 4,
   "id": "4c6bed9d",
   "metadata": {},
   "outputs": [
    {
     "name": "stdout",
     "output_type": "stream",
     "text": [
      "Addition: 15\n",
      "Subtraction: 5\n",
      "Multiplication: 50\n",
      "Division: 2.0\n",
      "Floor Division: 2\n",
      "Exponentiation: 100000\n",
      "Modulus: 0\n",
      "Floor Division: 2\n",
      "Modulus: 0\n"
     ]
    }
   ],
   "source": [
    "a=10\n",
    "b=5\n",
    "add_result=a+b\n",
    "sub_result=a-b\n",
    "mul_result=a*b\n",
    "div_result=a/b\n",
    "floor_result=a//b # floor division\n",
    "modulus_result=a%b # floor division\n",
    "\n",
    "exp_result=a**b # exponentiation\n",
    "print(f\"Addition: {add_result}\")\n",
    "print(f\"Subtraction: {sub_result}\")\n",
    "print(f\"Multiplication: {mul_result}\")\n",
    "print(f\"Division: {div_result}\")\n",
    "# It divides a by b and rounds down the result to the nearest whole number (integer).\n",
    "# Works with both integers and floats.\n",
    "print(f\"Floor Division: {floor_result}\")\n",
    "print(f\"Exponentiation: {exp_result}\")\n",
    "print(f\"Modulus: {a%b}\") # modulus operation\n",
    "print(f\"Floor Division: {floor_result}\") # floor division\n",
    "print(f\"Modulus: {modulus_result}\") # modulus operation"
   ]
  },
  {
   "cell_type": "code",
   "execution_count": 6,
   "id": "8079d8a5",
   "metadata": {},
   "outputs": [
    {
     "data": {
      "text/plain": [
       "True"
      ]
     },
     "execution_count": 6,
     "metadata": {},
     "output_type": "execute_result"
    }
   ],
   "source": [
    "# Comparison Operators\n",
    "name=\"sameer\"\n",
    "name2=\"sameer\"\n",
    "name==name2"
   ]
  },
  {
   "cell_type": "code",
   "execution_count": 9,
   "id": "a8ef6cf3",
   "metadata": {},
   "outputs": [
    {
     "data": {
      "text/plain": [
       "True"
      ]
     },
     "execution_count": 9,
     "metadata": {},
     "output_type": "execute_result"
    }
   ],
   "source": [
    "# Comparison Operators\n",
    "name=\"sameer\"\n",
    "name2=\"Sameer\"\n",
    "name!=name2"
   ]
  },
  {
   "cell_type": "code",
   "execution_count": 10,
   "id": "62e7f647",
   "metadata": {},
   "outputs": [
    {
     "name": "stdout",
     "output_type": "stream",
     "text": [
      "False\n",
      "True\n",
      "False\n"
     ]
    }
   ],
   "source": [
    "# logical operators\n",
    "X=True\n",
    "Y=False\n",
    "print(X and Y)  # Logical AND\n",
    "print(X or Y)   # Logical OR\n",
    "print(not X)    # Logical NOT"
   ]
  }
 ],
 "metadata": {
  "kernelspec": {
   "display_name": ".venv",
   "language": "python",
   "name": "python3"
  },
  "language_info": {
   "codemirror_mode": {
    "name": "ipython",
    "version": 3
   },
   "file_extension": ".py",
   "mimetype": "text/x-python",
   "name": "python",
   "nbconvert_exporter": "python",
   "pygments_lexer": "ipython3",
   "version": "3.11.3"
  }
 },
 "nbformat": 4,
 "nbformat_minor": 5
}
