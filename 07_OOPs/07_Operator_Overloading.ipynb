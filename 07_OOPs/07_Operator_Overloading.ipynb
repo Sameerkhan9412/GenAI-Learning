{
 "cells": [
  {
   "cell_type": "markdown",
   "id": "19d19a42",
   "metadata": {},
   "source": [
    "## Common Operator Overloading Magic Methos:\n",
    "- __ __add__ __(self,other) : adds two objects using the + opeator.\n",
    "- __ __sub__ __(self,other): subtracts two objects using the - opeator.\n",
    "- __ __mul__ __(self,other): multiplies two objects using the * operator.\n",
    "- __ __truediv__ __(self,other):devides two objects using the / opetators.\n",
    "- __ __eq__ __(self,other): check if two objects are equal using the == opeator.\n",
    "- __ __lt__ __(self,other):checks if one object is less than another using < operator."
   ]
  },
  {
   "cell_type": "code",
   "execution_count": null,
   "id": "197c59c0",
   "metadata": {},
   "outputs": [
    {
     "name": "stdout",
     "output_type": "stream",
     "text": [
      "Vector(6,8)\n",
      "Vector(-2,-2)\n",
      "Vector(6,9)\n"
     ]
    }
   ],
   "source": [
    "class Vector:\n",
    "    def __init__(self,x,y):\n",
    "        self.x=x\n",
    "        self.y=y\n",
    "\n",
    "    def __add__(self,other):\n",
    "        return Vector(self.x+other.x, self.y+other.y)\n",
    "    def __sub__(self,other):\n",
    "        return Vector(self.x-other.x, self.y-other.y)\n",
    "    def __mul__(self,other):\n",
    "        return Vector(self.x*other, self.y*other)\n",
    "    def __eq__(self,other):\n",
    "        return self.x==other.x and self.y==other.y\n",
    "    def __repr__(self):\n",
    "        return f\"Vector({self.x},{self.y})\"\n",
    "\n",
    "#   create object of vector clas\n",
    "v1=Vector(2,3)\n",
    "v2=Vector(4,5)\n",
    "print(v1+v2)\n",
    "print(v1-v2)\n",
    "print(v1*3)\n",
    "\n",
    "# Todo-> create object of the complex number"
   ]
  }
 ],
 "metadata": {
  "kernelspec": {
   "display_name": ".venv",
   "language": "python",
   "name": "python3"
  },
  "language_info": {
   "codemirror_mode": {
    "name": "ipython",
    "version": 3
   },
   "file_extension": ".py",
   "mimetype": "text/x-python",
   "name": "python",
   "nbconvert_exporter": "python",
   "pygments_lexer": "ipython3",
   "version": "3.11.3"
  }
 },
 "nbformat": 4,
 "nbformat_minor": 5
}
