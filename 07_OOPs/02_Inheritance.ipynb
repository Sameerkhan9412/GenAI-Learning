{
 "cells": [
  {
   "cell_type": "markdown",
   "id": "76756fa6",
   "metadata": {},
   "source": [
    "**Inheritance in Python**\n",
    "Inheritance is a fundamental concept in OOP that allows a class to inherit attributes and methods from another class. This lesson covers single inheritance  and multiple inheritance, demonstrating how to create and use them in python"
   ]
  },
  {
   "cell_type": "code",
   "execution_count": 11,
   "id": "f0a8aeb3",
   "metadata": {},
   "outputs": [],
   "source": [
    "# Inheritance\n",
    "class Car:\n",
    "    def __init__(self,windows,doors,enginetype):\n",
    "        self.windows=windows\n",
    "        self.doors=doors\n",
    "        self.engineType=enginetype\n",
    "    def drive(self):\n",
    "        print(f\"the person will drive the {self.engineType} car\")"
   ]
  },
  {
   "cell_type": "code",
   "execution_count": 10,
   "id": "5ece081c",
   "metadata": {},
   "outputs": [
    {
     "name": "stdout",
     "output_type": "stream",
     "text": [
      "the person will drive the petrol car car\n"
     ]
    }
   ],
   "source": [
    "car1=Car(4,5,\"petrol car\")\n",
    "car1.drive()"
   ]
  },
  {
   "cell_type": "code",
   "execution_count": 15,
   "id": "6a871d39",
   "metadata": {},
   "outputs": [],
   "source": [
    "class Tesla(Car):\n",
    "    def __init__(self,windows,doors,engineType,isSelfDriving):\n",
    "        super().__init__(windows,doors,engineType) #calling super class contructor\n",
    "        self.isSelfDriving=isSelfDriving\n",
    "    def self_driving(self):\n",
    "        print(f\"Tesla supports self driving: {self.isSelfDriving}\")"
   ]
  },
  {
   "cell_type": "code",
   "execution_count": 16,
   "id": "1d41fc46",
   "metadata": {},
   "outputs": [
    {
     "name": "stdout",
     "output_type": "stream",
     "text": [
      "Tesla supports self driving: True\n"
     ]
    }
   ],
   "source": [
    "tesla1=Tesla(4,7,\"electric\",True)\n",
    "tesla1.self_driving()"
   ]
  },
  {
   "cell_type": "code",
   "execution_count": 19,
   "id": "3c366582",
   "metadata": {},
   "outputs": [
    {
     "name": "stdout",
     "output_type": "stream",
     "text": [
      "bob say woof\n",
      "owner:sameer\n"
     ]
    }
   ],
   "source": [
    "# Multiple Inheritance\n",
    "# when a class inherits more than one base class\n",
    "# base class1\n",
    "class Animal:\n",
    "    def __init__(self,name):\n",
    "        self.name=name\n",
    "    def speak(self):\n",
    "        print(\"subclass must implement this method\")\n",
    "\n",
    "# base class2\n",
    "class Pet:\n",
    "    def __init__(self,owner):\n",
    "        self.owner=owner\n",
    "# Derived class\n",
    "class Dog(Animal,Pet):\n",
    "    def __init__(self,name,owner):\n",
    "        Animal.__init__(self,name)\n",
    "        Pet.__init__(self,owner)\n",
    "    def speak(self):\n",
    "        return f\"{self.name} say woof\"\n",
    "\n",
    "# create object\n",
    "dog1=Dog(\"bob\",\"sameer\")\n",
    "print(dog1.speak())\n",
    "\n",
    "print(f\"owner:{dog1.owner}\")\n"
   ]
  }
 ],
 "metadata": {
  "kernelspec": {
   "display_name": ".venv",
   "language": "python",
   "name": "python3"
  },
  "language_info": {
   "codemirror_mode": {
    "name": "ipython",
    "version": 3
   },
   "file_extension": ".py",
   "mimetype": "text/x-python",
   "name": "python",
   "nbconvert_exporter": "python",
   "pygments_lexer": "ipython3",
   "version": "3.11.3"
  }
 },
 "nbformat": 4,
 "nbformat_minor": 5
}
