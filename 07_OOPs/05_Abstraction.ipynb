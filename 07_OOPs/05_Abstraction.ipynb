{
 "cells": [
  {
   "cell_type": "markdown",
   "id": "54896709",
   "metadata": {},
   "source": [
    "### Abstraction in python\n",
    "abstraction is the concept of hiding the complex implementation details and showing only the necessary features of an object. this helps in reducing programming complexity and efforts."
   ]
  },
  {
   "cell_type": "code",
   "execution_count": 2,
   "id": "e74956ec",
   "metadata": {},
   "outputs": [
    {
     "name": "stdout",
     "output_type": "stream",
     "text": [
      "Car engine started\n",
      "the vehicle is used for driving\n"
     ]
    }
   ],
   "source": [
    "from abc import ABC , abstractmethod\n",
    "# abstract base class\n",
    "class Vehicle(ABC):\n",
    "    def drive(self):\n",
    "        print(\"the vehicle is used for driving\")\n",
    "    @abstractmethod\n",
    "    def start_engine(self):\n",
    "        pass\n",
    "\n",
    "class Car(Vehicle):\n",
    "    def start_engine(self):\n",
    "        print(f\"Car engine started\")\n",
    "\n",
    "def operate_vehicle(vehicle):\n",
    "    vehicle.start_engine()\n",
    "    vehicle.drive()\n",
    "car=Car()\n",
    "operate_vehicle(car)"
   ]
  }
 ],
 "metadata": {
  "kernelspec": {
   "display_name": ".venv",
   "language": "python",
   "name": "python3"
  },
  "language_info": {
   "codemirror_mode": {
    "name": "ipython",
    "version": 3
   },
   "file_extension": ".py",
   "mimetype": "text/x-python",
   "name": "python",
   "nbconvert_exporter": "python",
   "pygments_lexer": "ipython3",
   "version": "3.11.3"
  }
 },
 "nbformat": 4,
 "nbformat_minor": 5
}
