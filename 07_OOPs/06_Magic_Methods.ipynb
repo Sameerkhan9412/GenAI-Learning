{
 "cells": [
  {
   "cell_type": "markdown",
   "id": "32f681f4",
   "metadata": {},
   "source": [
    "## Magic Methods\n",
    "megic methods in python , also known as dunder methods (double underscore methods),are special methods that start and end with double underscores. these methods enable you to define the behaviour of objects for built-in operations, such as arithmetic operations,comparisons and more.\n",
    "➡️ Magic Methods ya Dunder Methods wo special methods hote hain jo Python ke andar double underscore (__) ke sath likhe jaate hain.\n",
    "➡️ Dunder ka matlab hi \"Double UNDERscore\" (Jaise: __init__, __str__, __add__ etc.)\n",
    "➡️ Inhe hum program ke andar special behavior define karne ke liye use karte hain.\n",
    "## Why we use Magic Methods? (Kyu istemaal karte hain?)\n",
    "✅ Apne custom class ke objects ko Python ke built-in operations ke saath compatible banane ke liye\n",
    "✅ Kuch special functionality automatic define karne ke liye\n",
    "✅ Operators ko overload karne ke liye (+, -, *, etc.)\n",
    "✅ Readable aur clean code likhne ke liye\n",
    "## Magic Methods\n",
    "magic methods are predefined methods in python that you can override to change the behavior of your objects.some common magic methods include:\n",
    "\n",
    "- __ __init__ __: initializes a new instance of a class\n",
    "- __ __str__ __ returns a string representation of an object.\n",
    "- __ __repr__ __: returns an official string representation of an object .\n",
    "- __ __len__ __: returns the length of an object\n",
    "- __ __getitem__: __ gets an item from a constructor.\n",
    "- __ __setitem__ __: sets an item in a container.\n"
   ]
  },
  {
   "cell_type": "code",
   "execution_count": null,
   "id": "cdc481e3",
   "metadata": {},
   "outputs": [
    {
     "data": {
      "text/plain": [
       "['__class__',\n",
       " '__delattr__',\n",
       " '__dict__',\n",
       " '__dir__',\n",
       " '__doc__',\n",
       " '__eq__',\n",
       " '__format__',\n",
       " '__ge__',\n",
       " '__getattribute__',\n",
       " '__getstate__',\n",
       " '__gt__',\n",
       " '__hash__',\n",
       " '__init__',\n",
       " '__init_subclass__',\n",
       " '__le__',\n",
       " '__lt__',\n",
       " '__module__',\n",
       " '__ne__',\n",
       " '__new__',\n",
       " '__reduce__',\n",
       " '__reduce_ex__',\n",
       " '__repr__',\n",
       " '__setattr__',\n",
       " '__sizeof__',\n",
       " '__str__',\n",
       " '__subclasshook__',\n",
       " '__weakref__']"
      ]
     },
     "execution_count": 1,
     "metadata": {},
     "output_type": "execute_result"
    }
   ],
   "source": [
    "# magic methods\n",
    "class Person:\n",
    "    pass\n",
    "\n",
    "person=Person()\n",
    "dir(person) ## returns all megic func"
   ]
  },
  {
   "cell_type": "code",
   "execution_count": 2,
   "id": "d412f1bc",
   "metadata": {},
   "outputs": [
    {
     "name": "stdout",
     "output_type": "stream",
     "text": [
      "<__main__.Person object at 0x0000015A79ADD450>\n"
     ]
    }
   ],
   "source": [
    "print(person)"
   ]
  },
  {
   "cell_type": "code",
   "execution_count": 7,
   "id": "786b9f19",
   "metadata": {},
   "outputs": [
    {
     "name": "stdout",
     "output_type": "stream",
     "text": [
      "<__main__.Person object at 0x0000015A7B359CD0>\n",
      "<__main__.Person object at 0x0000015A7B359CD0>\n"
     ]
    }
   ],
   "source": [
    "# basic magic methods\n",
    "class Person:\n",
    "    def __init__(self,name,age):\n",
    "        self.name=name\n",
    "        self.age=age\n",
    "\n",
    "person=Person(\"sameer\",44)\n",
    "print(person)\n",
    "print(repr(person))\n"
   ]
  },
  {
   "cell_type": "code",
   "execution_count": 6,
   "id": "44b5d5e9",
   "metadata": {},
   "outputs": [
    {
     "name": "stdout",
     "output_type": "stream",
     "text": [
      "sameer ,44 years old\n",
      "Person name=sameer, age=44\n"
     ]
    }
   ],
   "source": [
    "# basic magic methods\n",
    "class Person:\n",
    "    def __init__(self,name,age):\n",
    "        self.name=name\n",
    "        self.age=age\n",
    "    \n",
    "    def __str__(self):\n",
    "        return f\"{self.name} ,{self.age} years old\"\n",
    "    \n",
    "    def __repr__(self):\n",
    "        return f\"Person name={self.name}, age={self.age}\"\n",
    "\n",
    "person=Person(\"sameer\",44)\n",
    "print(person)\n",
    "print(repr(person))"
   ]
  }
 ],
 "metadata": {
  "kernelspec": {
   "display_name": ".venv",
   "language": "python",
   "name": "python3"
  },
  "language_info": {
   "codemirror_mode": {
    "name": "ipython",
    "version": 3
   },
   "file_extension": ".py",
   "mimetype": "text/x-python",
   "name": "python",
   "nbconvert_exporter": "python",
   "pygments_lexer": "ipython3",
   "version": "3.11.3"
  }
 },
 "nbformat": 4,
 "nbformat_minor": 5
}
