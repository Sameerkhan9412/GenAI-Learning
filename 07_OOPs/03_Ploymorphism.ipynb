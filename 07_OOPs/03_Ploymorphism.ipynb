{
 "cells": [
  {
   "cell_type": "markdown",
   "id": "eec0c8a5",
   "metadata": {},
   "source": [
    "**Polymorphism In Python**\n",
    "polymorphism is a core concept in OOPs that allows ohjects of different classes to be treated as objects of a common superclass. it provides a way to perform a single action in different forms. Polymorphism is typically achieved throgh mmethod overriding and interfaces."
   ]
  },
  {
   "cell_type": "markdown",
   "id": "cfb34025",
   "metadata": {},
   "source": [
    "### Method overriding\n",
    "method overriding allow a child class to provide specific implementation of a method that is already defined in its parent class"
   ]
  },
  {
   "cell_type": "code",
   "execution_count": 4,
   "id": "35c06464",
   "metadata": {},
   "outputs": [
    {
     "name": "stdout",
     "output_type": "stream",
     "text": [
      "sound of the dog\n",
      "meow\n",
      "meow\n"
     ]
    }
   ],
   "source": [
    "# Base class\n",
    "class Animal:\n",
    "    def speak(self):\n",
    "        return \"sound of the animal\"\n",
    "\n",
    "# derived class\n",
    "class Dog(Animal):\n",
    "    def speak(self):\n",
    "        return \"sound of the dog\"\n",
    "\n",
    "# Derived class\n",
    "class Cat(Animal):\n",
    "    def speak(self):\n",
    "        return \"meow\"\n",
    "\n",
    "# function that demonstrates polymorphysm\n",
    "def animal_speak(Animal):\n",
    "    print(Animal.speak())\n",
    "\n",
    "\n",
    "dog=Dog()\n",
    "print(dog.speak())\n",
    "cat=Cat()\n",
    "print(cat.speak())\n",
    "animal_speak(cat)"
   ]
  },
  {
   "cell_type": "code",
   "execution_count": 5,
   "id": "64b900c4",
   "metadata": {},
   "outputs": [
    {
     "name": "stdout",
     "output_type": "stream",
     "text": [
      "the area is 800\n",
      "the area is 50.24\n"
     ]
    }
   ],
   "source": [
    "# Polymorphysm with functions and methdos\n",
    "# base class\n",
    "class Shape:\n",
    "    def area(self):\n",
    "        return \"the area is figure out\"\n",
    "\n",
    "# Derived class 1\n",
    "class Rectangle(Shape):\n",
    "    def __init__(self,width,height):\n",
    "        self.width=width\n",
    "        self.height=height\n",
    "    \n",
    "    def area(self):\n",
    "        return self.width*self.height\n",
    "\n",
    "# Derived class 2\n",
    "class Circle(Shape):\n",
    "    def __init__(self,redius):\n",
    "        self.redius=redius\n",
    "\n",
    "    def area(self):\n",
    "        return 3.14*self.redius*self.redius\n",
    "\n",
    "# function that demonstrate polymor...\n",
    "def print_area(shape):\n",
    "    print(f\"the area is {shape.area()}\")\n",
    "\n",
    "rectangle=Rectangle(20,40)\n",
    "circle=Circle(4)\n",
    "print_area(rectangle)\n",
    "print_area(circle)"
   ]
  },
  {
   "cell_type": "markdown",
   "id": "aa34df9c",
   "metadata": {},
   "source": [
    "### Polymorphysm with Abstract Base Classes\n",
    "ABCs are used to define common methods for a group of related objects. they can enforce the derived classes to implement partcular methods,promoting consistency across different implementation."
   ]
  },
  {
   "cell_type": "code",
   "execution_count": 15,
   "id": "e0dcaa01",
   "metadata": {},
   "outputs": [
    {
     "name": "stdout",
     "output_type": "stream",
     "text": [
      "Car engine started\n",
      "Motercycle engine strated\n"
     ]
    }
   ],
   "source": [
    "from abc import ABC,abstractmethod\n",
    "\n",
    "# define an abstract class\n",
    "class Vehicle(ABC):\n",
    "    @abstractmethod\n",
    "    def start_engine(self):\n",
    "        pass\n",
    "\n",
    "# derived class\n",
    "class Car(Vehicle):\n",
    "    def start_engine(self):\n",
    "        return \"Car engine started\"\n",
    "    \n",
    "# Derived class2\n",
    "class MoterCycle(Vehicle):\n",
    "    def start_engine(self):\n",
    "        return \"Motercycle engine strated\"\n",
    "    \n",
    "# function that demostrate polymorphysm\n",
    "def start_vehicle(vehicle):\n",
    "    print(vehicle.start_engine())\n",
    "    \n",
    "# create object\n",
    "car=Car()\n",
    "moterCycle=MoterCycle()\n",
    "start_vehicle(car)\n",
    "start_vehicle(moterCycle)\n",
    "\n"
   ]
  },
  {
   "cell_type": "markdown",
   "id": "45fc210e",
   "metadata": {},
   "source": [
    "### Conclusion\n",
    "Polym... is a powerful feature of oop that allows for flexibilty and integration in code design . it enables a single function to handle objects of different classes, each with its own implementation of a method. by  understanding and applying polymorphysim, you can create extensible and maintainable OOPs."
   ]
  }
 ],
 "metadata": {
  "kernelspec": {
   "display_name": ".venv",
   "language": "python",
   "name": "python3"
  },
  "language_info": {
   "codemirror_mode": {
    "name": "ipython",
    "version": 3
   },
   "file_extension": ".py",
   "mimetype": "text/x-python",
   "name": "python",
   "nbconvert_exporter": "python",
   "pygments_lexer": "ipython3",
   "version": "3.11.3"
  }
 },
 "nbformat": 4,
 "nbformat_minor": 5
}
