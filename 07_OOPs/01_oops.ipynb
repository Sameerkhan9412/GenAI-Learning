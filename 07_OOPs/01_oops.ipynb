{
 "cells": [
  {
   "cell_type": "markdown",
   "id": "bd9ddca3",
   "metadata": {},
   "source": [
    "**Classes and objects**\n",
    "oops is a programming paradigm that uses objects to design applicaitons and computer programs, oops allows for modeling real world scenerios using classes and object. now we will covers the basics of creating classes and objects, including instance variables and methods."
   ]
  },
  {
   "cell_type": "code",
   "execution_count": null,
   "id": "34ec9d31",
   "metadata": {},
   "outputs": [
    {
     "name": "stdout",
     "output_type": "stream",
     "text": [
      "<class '__main__.Car'>\n",
      "<class '__main__.Car'>\n"
     ]
    }
   ],
   "source": [
    "# a class is a blueprint for creating objects. attributes, methods.\n",
    "class Car:\n",
    "    pass\n",
    "\n",
    "audi=Car()\n",
    "bmw=Car()\n",
    "print(type(audi))\n",
    "print(type(bmw))"
   ]
  },
  {
   "cell_type": "code",
   "execution_count": 9,
   "id": "f4836166",
   "metadata": {},
   "outputs": [
    {
     "name": "stdout",
     "output_type": "stream",
     "text": [
      "4\n"
     ]
    },
    {
     "data": {
      "text/plain": [
       "['__class__',\n",
       " '__delattr__',\n",
       " '__dict__',\n",
       " '__dir__',\n",
       " '__doc__',\n",
       " '__eq__',\n",
       " '__format__',\n",
       " '__ge__',\n",
       " '__getattribute__',\n",
       " '__getstate__',\n",
       " '__gt__',\n",
       " '__hash__',\n",
       " '__init__',\n",
       " '__init_subclass__',\n",
       " '__le__',\n",
       " '__lt__',\n",
       " '__module__',\n",
       " '__ne__',\n",
       " '__new__',\n",
       " '__reduce__',\n",
       " '__reduce_ex__',\n",
       " '__repr__',\n",
       " '__setattr__',\n",
       " '__sizeof__',\n",
       " '__str__',\n",
       " '__subclasshook__',\n",
       " '__weakref__',\n",
       " 'window']"
      ]
     },
     "execution_count": 9,
     "metadata": {},
     "output_type": "execute_result"
    }
   ],
   "source": [
    "audi.window=4\n",
    "print(audi.window)\n",
    "dir(audi)"
   ]
  },
  {
   "cell_type": "code",
   "execution_count": null,
   "id": "bb277dbd",
   "metadata": {},
   "outputs": [
    {
     "name": "stdout",
     "output_type": "stream",
     "text": [
      "<__main__.People object at 0x000001BB27979190>\n",
      "30\n",
      "sameer\n"
     ]
    }
   ],
   "source": [
    "# instance variable and method:\n",
    "class People:\n",
    "    # constructor\n",
    "    def __init__(self,name,age):\n",
    "        self.name=name\n",
    "        self.age=age\n",
    "\n",
    "# create object\n",
    "sameer=People(\"sameer\",\"30\")\n",
    "print(sameer)\n",
    "print(sameer.age)\n",
    "print(sameer.name)\n",
    "\n",
    "# Instance variables wo variables hote hain jo har object ke liye alag-alag hote hain, aur ye class ke andar, self ke through define kiye jaate hain."
   ]
  },
  {
   "cell_type": "markdown",
   "id": "67371424",
   "metadata": {},
   "source": [
    "**Key points about self:**\n",
    "✔ It must be the first parameter in instance methods (including __init__).\n",
    "✔ It refers to the current object being created or used.\n",
    "✔ You can name it anything, but self is the convention followed by Python developers.\n",
    "\n",
    "In Python, self represents the instance of the class. It is used to access instance variables and methods within the class.\n",
    "```python\n",
    "class Dog:\n",
    "    def __init__(self, name, age):\n",
    "        self.name = name\n",
    "        self.age = age\n",
    "```\n",
    "Here’s what happens:\n",
    "\n",
    "✅ self.name = name\n",
    "Means → The instance variable name of that specific object (like dog1.name) is being set to the value passed during object creation.\n",
    "\n",
    "✅ self.age = age\n",
    "Means → The instance variable age is set for that particular object.\n",
    "Why self is needed:\n",
    "Without self, Python wouldn't know whether you're referring to:\n",
    "\n",
    "A local variable (temporary inside the function)\n",
    "\n",
    "Or an instance variable (attached to the object)\n",
    "\n"
   ]
  },
  {
   "cell_type": "code",
   "execution_count": null,
   "id": "b566a48d",
   "metadata": {},
   "outputs": [],
   "source": [
    "class Dog:\n",
    "    species = \"Canine\"  # Class Variable (common for all objects)\n",
    "\n",
    "    def __init__(self, name):\n",
    "        self.name = name  # Instance Variable (alag-alag for har object)\n"
   ]
  },
  {
   "cell_type": "code",
   "execution_count": 13,
   "id": "a9557da7",
   "metadata": {},
   "outputs": [
    {
     "name": "stdout",
     "output_type": "stream",
     "text": [
      "tommmy\n",
      "5\n",
      "tommmy says woof\n"
     ]
    }
   ],
   "source": [
    "# define a class with instance methods\n",
    "class Dog:\n",
    "    def __init__(self,name,age):\n",
    "        self.name=name\n",
    "        self.age=age\n",
    "    def bark(self):\n",
    "        print(f\"{self.name} says woof\")\n",
    "\n",
    "dog1=Dog(\"tommmy\",5)\n",
    "print(dog1.name)\n",
    "print(dog1.age)\n",
    "dog1.bark()"
   ]
  },
  {
   "cell_type": "code",
   "execution_count": null,
   "id": "94eb69b8",
   "metadata": {},
   "outputs": [],
   "source": [
    "# conclusion:\n",
    "# object oriented programming (OOPs) allow us to model real world scenerios using classes and objects. in this folder, we learned how to create classes and objects, define instance variable and methods and use them to perform various operations. Understanding these concepts is fundamental to writing effective and maintable python code."
   ]
  }
 ],
 "metadata": {
  "kernelspec": {
   "display_name": ".venv",
   "language": "python",
   "name": "python3"
  },
  "language_info": {
   "codemirror_mode": {
    "name": "ipython",
    "version": 3
   },
   "file_extension": ".py",
   "mimetype": "text/x-python",
   "name": "python",
   "nbconvert_exporter": "python",
   "pygments_lexer": "ipython3",
   "version": "3.11.3"
  }
 },
 "nbformat": 4,
 "nbformat_minor": 5
}
