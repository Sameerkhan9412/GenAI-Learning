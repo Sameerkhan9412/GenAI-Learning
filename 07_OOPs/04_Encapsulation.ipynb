{
 "cells": [
  {
   "cell_type": "markdown",
   "id": "11208427",
   "metadata": {},
   "source": [
    "## Encapsulation and abstraction in python\n",
    "Encapsulation and abstraction are two fundamental pricniple of oops that help in designing robust, maintainable, and reusable code. encapsulation involves bundling data and methods that operates on the data within a single unit, while abstraction involves hiding complex implementation details and exposing only the necessary features.\n",
    "\n",
    "### Encapsulation\n",
    "encapsulation is the concept of wrapping data (variable) and methods (functions) together as a single unit. it restricts direct access to some of the object's components, which is a means of preventing   accidental interference and misuse of the data."
   ]
  },
  {
   "cell_type": "code",
   "execution_count": 61,
   "id": "10ec86df",
   "metadata": {},
   "outputs": [
    {
     "name": "stdout",
     "output_type": "stream",
     "text": [
      "20\n",
      "sameer\n"
     ]
    }
   ],
   "source": [
    "# Encapsulation with getter and setter methods\n",
    "# public , protected and private variable\n",
    "\n",
    "class Person:\n",
    "    def __init__(self,name,age):\n",
    "        self.name=name ##public variable\n",
    "        self.age=age    ## public variable\n",
    "def get_name(person):\n",
    "    return person.name\n",
    "\n",
    "person=Person(\"sameer\",20)\n",
    "print(person.age)\n",
    "print(person.name)"
   ]
  },
  {
   "cell_type": "code",
   "execution_count": 62,
   "id": "1b7a1568",
   "metadata": {},
   "outputs": [
    {
     "data": {
      "text/plain": [
       "['__class__',\n",
       " '__delattr__',\n",
       " '__dict__',\n",
       " '__dir__',\n",
       " '__doc__',\n",
       " '__eq__',\n",
       " '__format__',\n",
       " '__ge__',\n",
       " '__getattribute__',\n",
       " '__getstate__',\n",
       " '__gt__',\n",
       " '__hash__',\n",
       " '__init__',\n",
       " '__init_subclass__',\n",
       " '__le__',\n",
       " '__lt__',\n",
       " '__module__',\n",
       " '__ne__',\n",
       " '__new__',\n",
       " '__reduce__',\n",
       " '__reduce_ex__',\n",
       " '__repr__',\n",
       " '__setattr__',\n",
       " '__sizeof__',\n",
       " '__str__',\n",
       " '__subclasshook__',\n",
       " '__weakref__',\n",
       " 'age',\n",
       " 'name']"
      ]
     },
     "execution_count": 62,
     "metadata": {},
     "output_type": "execute_result"
    }
   ],
   "source": [
    "dir(person)"
   ]
  },
  {
   "cell_type": "code",
   "execution_count": 63,
   "id": "64d0a715",
   "metadata": {},
   "outputs": [],
   "source": [
    "class Person:\n",
    "    def __init__(self,name,age,gender):\n",
    "        self.__name=name  ##private variable\n",
    "        self.__age=age    ## private variable\n",
    "        self.gender=gender  ## public variable\n",
    "\n",
    "def get_name(person):\n",
    "    # return person._Person__name-> we can access using this way to get private variable\n",
    "    return person.__name\n",
    "\n",
    "\n"
   ]
  },
  {
   "cell_type": "code",
   "execution_count": 64,
   "id": "cc83770e",
   "metadata": {},
   "outputs": [
    {
     "ename": "AttributeError",
     "evalue": "'Person' object has no attribute '__name'",
     "output_type": "error",
     "traceback": [
      "\u001b[31m---------------------------------------------------------------------------\u001b[39m",
      "\u001b[31mAttributeError\u001b[39m                            Traceback (most recent call last)",
      "\u001b[36mCell\u001b[39m\u001b[36m \u001b[39m\u001b[32mIn[64]\u001b[39m\u001b[32m, line 3\u001b[39m\n\u001b[32m      1\u001b[39m person=Person(\u001b[33m\"\u001b[39m\u001b[33msameer\u001b[39m\u001b[33m\"\u001b[39m,\u001b[32m45\u001b[39m,\u001b[33m\"\u001b[39m\u001b[33mmale\u001b[39m\u001b[33m\"\u001b[39m)\n\u001b[32m      2\u001b[39m \u001b[38;5;66;03m# dir(person) # i am not able to see private variable\u001b[39;00m\n\u001b[32m----> \u001b[39m\u001b[32m3\u001b[39m \u001b[43mget_name\u001b[49m\u001b[43m(\u001b[49m\u001b[43mperson\u001b[49m\u001b[43m)\u001b[49m    \u001b[38;5;66;03m# not able to accesss it.\u001b[39;00m\n\u001b[32m      4\u001b[39m \u001b[38;5;66;03m# private varible which we cannt access outside the class.\u001b[39;00m\n",
      "\u001b[36mCell\u001b[39m\u001b[36m \u001b[39m\u001b[32mIn[63]\u001b[39m\u001b[32m, line 9\u001b[39m, in \u001b[36mget_name\u001b[39m\u001b[34m(person)\u001b[39m\n\u001b[32m      7\u001b[39m \u001b[38;5;28;01mdef\u001b[39;00m\u001b[38;5;250m \u001b[39m\u001b[34mget_name\u001b[39m(person):\n\u001b[32m      8\u001b[39m     \u001b[38;5;66;03m# return person._Person__name-> we can access using this way to get private variable\u001b[39;00m\n\u001b[32m----> \u001b[39m\u001b[32m9\u001b[39m     \u001b[38;5;28;01mreturn\u001b[39;00m \u001b[43mperson\u001b[49m\u001b[43m.\u001b[49m\u001b[43m__name\u001b[49m\n",
      "\u001b[31mAttributeError\u001b[39m: 'Person' object has no attribute '__name'"
     ]
    }
   ],
   "source": [
    "person=Person(\"sameer\",45,\"male\")\n",
    "# dir(person) # i am not able to see private variable\n",
    "get_name(person)    # not able to accesss it.\n",
    "# private varible which we cannt access outside the class."
   ]
  },
  {
   "cell_type": "code",
   "execution_count": 72,
   "id": "dbd49253",
   "metadata": {},
   "outputs": [
    {
     "name": "stdout",
     "output_type": "stream",
     "text": [
      "sameer\n"
     ]
    },
    {
     "data": {
      "text/plain": [
       "['__class__',\n",
       " '__delattr__',\n",
       " '__dict__',\n",
       " '__dir__',\n",
       " '__doc__',\n",
       " '__eq__',\n",
       " '__format__',\n",
       " '__ge__',\n",
       " '__getattribute__',\n",
       " '__getstate__',\n",
       " '__gt__',\n",
       " '__hash__',\n",
       " '__init__',\n",
       " '__init_subclass__',\n",
       " '__le__',\n",
       " '__lt__',\n",
       " '__module__',\n",
       " '__ne__',\n",
       " '__new__',\n",
       " '__reduce__',\n",
       " '__reduce_ex__',\n",
       " '__repr__',\n",
       " '__setattr__',\n",
       " '__sizeof__',\n",
       " '__str__',\n",
       " '__subclasshook__',\n",
       " '__weakref__',\n",
       " '_age',\n",
       " '_name',\n",
       " 'gender']"
      ]
     },
     "execution_count": 72,
     "metadata": {},
     "output_type": "execute_result"
    }
   ],
   "source": [
    "class Person:\n",
    "    def __init__(self,name,age,gender):\n",
    "        self._name=name  ##protected variable,we cannt access it outside the class but access inside a derived class\n",
    "        self._age=age    ## protected variable\n",
    "        self.gender=gender  ## public variable\n",
    "\n",
    "def get_name(person):\n",
    "    # return person._Person__name-> we can access using this way to get private variable\n",
    "    return person.__name\n",
    "\n",
    "class Employe(Person):\n",
    "    def __init__(self, name, age, gender):\n",
    "        super().__init__(name, age, gender)\n",
    "\n",
    "emp=Employe(\"sameer\",30,\"male\")\n",
    "print(emp._name)\n",
    "dir(emp)\n",
    "\n"
   ]
  },
  {
   "cell_type": "code",
   "execution_count": 80,
   "id": "d58661ac",
   "metadata": {},
   "outputs": [
    {
     "name": "stdout",
     "output_type": "stream",
     "text": [
      "sameer\n",
      "33\n",
      "khan\n",
      "55\n"
     ]
    }
   ],
   "source": [
    "# encapsulation with getter and setter\n",
    "class Person:\n",
    "    def __init__(self,name,age):\n",
    "        self.__name=name\n",
    "        self.__age=age  # private variable\n",
    "\n",
    "    # getter\n",
    "    def get_name(self):\n",
    "        return self.__name\n",
    "\n",
    "    def get_age(self):\n",
    "        return self.__age\n",
    "\n",
    "    # setter\n",
    "    def set_name(self,name):\n",
    "        self.__name=name\n",
    "\n",
    "    def set_age(self,age):\n",
    "        if age>0:\n",
    "            self.__age=age\n",
    "        else:\n",
    "            print(\"age cannt be negtibe\")\n",
    "\n",
    "person=Person(\"sameer\",33)\n",
    "\n",
    "# get and set value\n",
    "print(person.get_name())\n",
    "print(person.get_age())\n",
    "person.set_name(\"khan\")\n",
    "print(person.get_name())\n",
    "person.set_age(55)\n",
    "print(person.get_age())\n"
   ]
  }
 ],
 "metadata": {
  "kernelspec": {
   "display_name": ".venv",
   "language": "python",
   "name": "python3"
  },
  "language_info": {
   "codemirror_mode": {
    "name": "ipython",
    "version": 3
   },
   "file_extension": ".py",
   "mimetype": "text/x-python",
   "name": "python",
   "nbconvert_exporter": "python",
   "pygments_lexer": "ipython3",
   "version": "3.11.3"
  }
 },
 "nbformat": 4,
 "nbformat_minor": 5
}
