{
 "cells": [
  {
   "cell_type": "markdown",
   "id": "6d052267",
   "metadata": {},
   "source": [
    "**Filter function Introduction**\n",
    "the filter function constructs an iterator from elements of an iterable for which a function returns true. it is used to filter out items from a list (or any other iterable) based on a condition."
   ]
  },
  {
   "cell_type": "code",
   "execution_count": 4,
   "id": "73ab8917",
   "metadata": {},
   "outputs": [
    {
     "name": "stdout",
     "output_type": "stream",
     "text": [
      "False\n",
      "True\n"
     ]
    }
   ],
   "source": [
    "def even(num):\n",
    "    if num%2==0:\n",
    "        return True\n",
    "\n",
    "    return False\n",
    "\n",
    "print(even(5))\n",
    "print(even(10))\n"
   ]
  },
  {
   "cell_type": "code",
   "execution_count": null,
   "id": "aceb61d0",
   "metadata": {},
   "outputs": [
    {
     "data": {
      "text/plain": [
       "[2, 4, 6, 8, 10]"
      ]
     },
     "execution_count": 5,
     "metadata": {},
     "output_type": "execute_result"
    }
   ],
   "source": [
    "lst=[1,2,3,4,5,6,7,8,9,10]\n",
    "list(filter(even,lst))"
   ]
  },
  {
   "cell_type": "code",
   "execution_count": 6,
   "id": "3767dcf7",
   "metadata": {},
   "outputs": [
    {
     "name": "stdout",
     "output_type": "stream",
     "text": [
      "[6, 7, 8]\n"
     ]
    }
   ],
   "source": [
    "# Filter with a lambda function \n",
    "numbers=[1,2,3,4,5,6,7,8]\n",
    "greater_than_five=list(filter(lambda x:x>5,numbers))\n",
    "print(greater_than_five)"
   ]
  },
  {
   "cell_type": "code",
   "execution_count": 7,
   "id": "a2c4ed2b",
   "metadata": {},
   "outputs": [
    {
     "name": "stdout",
     "output_type": "stream",
     "text": [
      "[6, 8]\n"
     ]
    }
   ],
   "source": [
    "# filter with a lambda func and multiple condtion\n",
    "numbers=[1,2,3,4,45,6,7,8]\n",
    "even_and_greater_than_five=list(filter(lambda x:x>5 and x%2==0,numbers))\n",
    "print(even_and_greater_than_five)"
   ]
  },
  {
   "cell_type": "code",
   "execution_count": 9,
   "id": "87fe9a42",
   "metadata": {},
   "outputs": [
    {
     "data": {
      "text/plain": [
       "[{'name': 'sameer', 'age': 29}, {'name': 'malik', 'age': 30}]"
      ]
     },
     "execution_count": 9,
     "metadata": {},
     "output_type": "execute_result"
    }
   ],
   "source": [
    "# filter() to check if the age is greater than 25 in dictionary\n",
    "people=[\n",
    "    {\"name\":\"sameer\",\"age\":29},\n",
    "    {\"name\":\"khan\",\"age\":20},\n",
    "    {\"name\":\"malik\",\"age\":30}\n",
    "]\n",
    "def age_greater_than_25(person):\n",
    "    return person[\"age\"]>25\n",
    "list(filter(age_greater_than_25,people))"
   ]
  },
  {
   "cell_type": "markdown",
   "id": "eb5ad0b4",
   "metadata": {},
   "source": [
    "**conclusion**\n",
    "the filter() func is a powerful tool for creating iterators that filters items out of an iterable based on a funciton. it is commonly used for data cleaning , filtering objects, and removing unwanted elements from lists.\n",
    "by mastering filters() , we can write concise and efficient code for processing and manupulating collections in python."
   ]
  }
 ],
 "metadata": {
  "kernelspec": {
   "display_name": ".venv",
   "language": "python",
   "name": "python3"
  },
  "language_info": {
   "codemirror_mode": {
    "name": "ipython",
    "version": 3
   },
   "file_extension": ".py",
   "mimetype": "text/x-python",
   "name": "python",
   "nbconvert_exporter": "python",
   "pygments_lexer": "ipython3",
   "version": "3.11.3"
  }
 },
 "nbformat": 4,
 "nbformat_minor": 5
}
