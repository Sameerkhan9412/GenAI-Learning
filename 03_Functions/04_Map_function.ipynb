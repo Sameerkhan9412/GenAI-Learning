{
 "cells": [
  {
   "cell_type": "markdown",
   "id": "a1fdb46f",
   "metadata": {},
   "source": [
    "**map funciton python**\n",
    "the map() function applies a given func to all items in an input list (or any other iterable) and returns a map object (an iterator). this is particularly useful for transforming data in a list comprehensively.\n"
   ]
  },
  {
   "cell_type": "code",
   "execution_count": null,
   "id": "d1ec5f7b",
   "metadata": {},
   "outputs": [
    {
     "data": {
      "text/plain": [
       "[1, 4, 9, 16, 25, 36, 49, 64, 81, 100]"
      ]
     },
     "execution_count": 3,
     "metadata": {},
     "output_type": "execute_result"
    }
   ],
   "source": [
    "# def square(n):\n",
    "#     return n * n\n",
    "numbers=[1,2,3,4,5,6,7,8,9,10]\n",
    "# list(map(square,numbers))\n",
    "list(map(lambda n: n * n, numbers))"
   ]
  },
  {
   "cell_type": "code",
   "execution_count": 5,
   "id": "daabfd86",
   "metadata": {},
   "outputs": [
    {
     "name": "stdout",
     "output_type": "stream",
     "text": [
      "[11, 22, 33, 44, 55]\n"
     ]
    }
   ],
   "source": [
    "# map multiple iterables\n",
    "numbers1 = [1, 2, 3, 4, 5]\n",
    "numbers2 = [10, 20, 30, 40, 50]\n",
    "added_numbers=list(map(lambda x, y: x + y, numbers1, numbers2))\n",
    "print(added_numbers)"
   ]
  },
  {
   "cell_type": "code",
   "execution_count": 7,
   "id": "62dc20b3",
   "metadata": {},
   "outputs": [
    {
     "name": "stdout",
     "output_type": "stream",
     "text": [
      "[1, 2, 3, 4, 5]\n"
     ]
    }
   ],
   "source": [
    "# map() to convert a list of strings to integers\n",
    "strings = ['1', '2', '3', '4', '5']\n",
    "integers = list(map(int, strings))\n",
    "print(integers)"
   ]
  },
  {
   "cell_type": "code",
   "execution_count": 9,
   "id": "8d079cb3",
   "metadata": {},
   "outputs": [
    {
     "name": "stdout",
     "output_type": "stream",
     "text": [
      "['APPLE', 'BANANA', 'CHERRY']\n"
     ]
    }
   ],
   "source": [
    "words=['apple', 'banana', 'cherry']\n",
    "upper_words=list(map(lambda x: x.upper(), words))\n",
    "print(upper_words)"
   ]
  },
  {
   "cell_type": "code",
   "execution_count": 10,
   "id": "46cd47f4",
   "metadata": {},
   "outputs": [
    {
     "name": "stdout",
     "output_type": "stream",
     "text": [
      "['Alice', 'Bob', 'Charlie']\n"
     ]
    }
   ],
   "source": [
    "def get_name(person):\n",
    "    return person['name']\n",
    "people=[\n",
    "    {'name': 'Alice', 'age': 30},\n",
    "    {'name': 'Bob', 'age': 25},\n",
    "    {'name': 'Charlie', 'age': 35}\n",
    "]\n",
    "list_of_names = list(map(get_name, people))\n",
    "print(list_of_names)"
   ]
  },
  {
   "cell_type": "code",
   "execution_count": null,
   "id": "ad2245f4",
   "metadata": {},
   "outputs": [],
   "source": [
    "# conclusion\n",
    "# map function is powerful for applying a function to each item in an iterable data structure.\n",
    "# It can be used with both built-in functions and custom functions, including lambda functions. and even multiple iterables, providng a flexible way to transform data. \n",
    "# by understanding how to use map, you can write more concise and readable code, especially when dealing with transformations or computations on collections of data."
   ]
  }
 ],
 "metadata": {
  "kernelspec": {
   "display_name": ".venv",
   "language": "python",
   "name": "python3"
  },
  "language_info": {
   "codemirror_mode": {
    "name": "ipython",
    "version": 3
   },
   "file_extension": ".py",
   "mimetype": "text/x-python",
   "name": "python",
   "nbconvert_exporter": "python",
   "pygments_lexer": "ipython3",
   "version": "3.11.3"
  }
 },
 "nbformat": 4,
 "nbformat_minor": 5
}
