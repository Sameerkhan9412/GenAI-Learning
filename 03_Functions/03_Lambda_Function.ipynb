{
 "cells": [
  {
   "cell_type": "markdown",
   "id": "3a93b842",
   "metadata": {},
   "source": [
    "**Lambda Function in python**\n",
    "lambda function are small anonymous functions (function without name) defined using the lambda keyword. they can have any number of arguments but only one expression (one logic) . they are commonly used for short operations or as arguments to higher order functions.\n"
   ]
  },
  {
   "cell_type": "code",
   "execution_count": null,
   "id": "30b08540",
   "metadata": {},
   "outputs": [],
   "source": [
    "# syntax:\n",
    "lambda arguments: expression"
   ]
  },
  {
   "cell_type": "code",
   "execution_count": 2,
   "id": "db63233d",
   "metadata": {},
   "outputs": [
    {
     "name": "stdout",
     "output_type": "stream",
     "text": [
      "5\n"
     ]
    }
   ],
   "source": [
    "addition=lambda a,b:a+b # anonymous function that adds two numbers\n",
    "type(addition) # <class 'function'>\n",
    "print(addition(2,3)) # 5\n"
   ]
  },
  {
   "cell_type": "code",
   "execution_count": 3,
   "id": "4f5a44f6",
   "metadata": {},
   "outputs": [
    {
     "name": "stdout",
     "output_type": "stream",
     "text": [
      "True\n",
      "True\n"
     ]
    }
   ],
   "source": [
    "even1=lambda x:x%2==0 # anonymous function that checks if a number is even\n",
    "even2=lambda x:x%2==1 # anonymous function that checks if a number is odd\n",
    "print(even1(4)) # True\n",
    "print(even2(5)) # True"
   ]
  },
  {
   "cell_type": "code",
   "execution_count": 4,
   "id": "d80ba72e",
   "metadata": {},
   "outputs": [
    {
     "name": "stdout",
     "output_type": "stream",
     "text": [
      "6\n"
     ]
    }
   ],
   "source": [
    "addtion=lambda a,b,c:a+b+c # anonymous function that adds three numbers\n",
    "print(addtion(1,2,3)) # 6"
   ]
  },
  {
   "cell_type": "code",
   "execution_count": 6,
   "id": "35f32a5f",
   "metadata": {},
   "outputs": [
    {
     "data": {
      "text/plain": [
       "[1, 4, 9, 16]"
      ]
     },
     "execution_count": 6,
     "metadata": {},
     "output_type": "execute_result"
    }
   ],
   "source": [
    "list(map(lambda x:x**2, [1,2,3,4])) # squares each number in the list\n"
   ]
  }
 ],
 "metadata": {
  "kernelspec": {
   "display_name": ".venv",
   "language": "python",
   "name": "python3"
  },
  "language_info": {
   "codemirror_mode": {
    "name": "ipython",
    "version": 3
   },
   "file_extension": ".py",
   "mimetype": "text/x-python",
   "name": "python",
   "nbconvert_exporter": "python",
   "pygments_lexer": "ipython3",
   "version": "3.11.3"
  }
 },
 "nbformat": 4,
 "nbformat_minor": 5
}
