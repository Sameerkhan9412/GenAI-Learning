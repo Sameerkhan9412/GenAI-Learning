{
 "cells": [
  {
   "cell_type": "markdown",
   "id": "c5221285",
   "metadata": {},
   "source": [
    "**Functions In Python**\n",
    "1. Introduction to function\n",
    "2. Defining functions\n",
    "3. Calling functions\n",
    "4. Function Parameters\n",
    "5. Default Parameters\n",
    "6. Variable Length Arguments\n",
    "7. Return statement\n",
    "\n",
    "**Introduction To Function**\n",
    "a function is a block of code that perform a specific task. functions help in orgainizing code , reusing code, and improving readability. "
   ]
  },
  {
   "cell_type": "code",
   "execution_count": 28,
   "id": "4536a09b",
   "metadata": {},
   "outputs": [],
   "source": [
    "# syntax:\n",
    "def function_name(parameter):\n",
    "    \"\"\"function body\"\"\" # type of comment in python\n",
    "    # function body\n",
    "    expresss =0\n",
    "    return expresss"
   ]
  },
  {
   "cell_type": "code",
   "execution_count": 29,
   "id": "7cb35284",
   "metadata": {},
   "outputs": [
    {
     "name": "stdout",
     "output_type": "stream",
     "text": [
      "number is even\n"
     ]
    }
   ],
   "source": [
    "def even_or_odd(num):\n",
    "    \"\"\"this funciton finds even or odd\"\"\"\n",
    "    if num%2==0:\n",
    "        print(\"number is even\")\n",
    "    else:\n",
    "        print(\"number is odd\")\n",
    "\n",
    "even_or_odd(4)"
   ]
  },
  {
   "cell_type": "code",
   "execution_count": 30,
   "id": "ee44f753",
   "metadata": {},
   "outputs": [
    {
     "name": "stdout",
     "output_type": "stream",
     "text": [
      "9\n",
      "10\n"
     ]
    }
   ],
   "source": [
    "# function with multiple parameter\n",
    "def new_func(num1,num2):\n",
    "    return num1+num2\n",
    "sum=new_func(4,6)\n",
    "print(new_func(4,5))\n",
    "print(sum)"
   ]
  },
  {
   "cell_type": "code",
   "execution_count": 31,
   "id": "049a539e",
   "metadata": {},
   "outputs": [
    {
     "name": "stdout",
     "output_type": "stream",
     "text": [
      "good morening\n",
      "kaise ho\n"
     ]
    }
   ],
   "source": [
    "# default parameter\n",
    "def greet(msg=\"good morening\"):\n",
    "    return msg\n",
    "hello=greet()\n",
    "hello2=greet(\"kaise ho\")\n",
    "print(hello)\n",
    "print(hello2)"
   ]
  },
  {
   "cell_type": "code",
   "execution_count": 32,
   "id": "3b50b00f",
   "metadata": {},
   "outputs": [
    {
     "name": "stdout",
     "output_type": "stream",
     "text": [
      "1\n",
      "2\n",
      "3\n",
      "4\n",
      "5\n",
      "sameer\n",
      "malik\n"
     ]
    }
   ],
   "source": [
    "# variable length arguments\n",
    "# positonal and keywords arguments\n",
    "def print_numbers(*args):   #best practice is to write *args, we can take any identifier with * it.\n",
    "    for num in args:\n",
    "        print(num)\n",
    "\n",
    "print_numbers(1, 2, 3, 4, 5,\"sameer\",\"malik\")\n"
   ]
  },
  {
   "cell_type": "code",
   "execution_count": 22,
   "id": "ef918284",
   "metadata": {},
   "outputs": [
    {
     "name": "stdout",
     "output_type": "stream",
     "text": [
      "name: Sameer\n",
      "age: 25\n",
      "city: Delhi\n"
     ]
    }
   ],
   "source": [
    "# keyword arguments\n",
    "def print_info(**kwargs):\n",
    "    for key, value in kwargs.items():\n",
    "        print(f\"{key}: {value}\")\n",
    "print_info(name=\"Sameer\", age=25, city=\"Delhi\")\n",
    "\n"
   ]
  },
  {
   "cell_type": "code",
   "execution_count": 33,
   "id": "173495b5",
   "metadata": {},
   "outputs": [
    {
     "name": "stdout",
     "output_type": "stream",
     "text": [
      "Positional arguments:\n",
      "1\n",
      "2\n",
      "3\n",
      "\n",
      "Keyword arguments:\n",
      "name: Sameer\n",
      "age: 25\n",
      "city: Delhi\n"
     ]
    }
   ],
   "source": [
    "def print_details(*args, **kwargs):\n",
    "    print(\"Positional arguments:\")\n",
    "    for arg in args:\n",
    "        print(arg)\n",
    "    \n",
    "    print(\"\\nKeyword arguments:\")\n",
    "    for key, value in kwargs.items():\n",
    "        print(f\"{key}: {value}\")\n",
    "\n",
    "print_details(1, 2, 3, name=\"Sameer\", age=25, city=\"Delhi\")"
   ]
  },
  {
   "cell_type": "code",
   "execution_count": 34,
   "id": "172babf5",
   "metadata": {},
   "outputs": [
    {
     "name": "stdout",
     "output_type": "stream",
     "text": [
      "Sum: 15, Difference: 5\n"
     ]
    }
   ],
   "source": [
    "# return multiple parameters from function\n",
    "def calculate(a, b):\n",
    "    sum_result = a + b\n",
    "    diff_result = a - b\n",
    "    return sum_result, diff_result\n",
    "result_sum, result_diff = calculate(10, 5)\n",
    "print(f\"Sum: {result_sum}, Difference: {result_diff}\")"
   ]
  }
 ],
 "metadata": {
  "kernelspec": {
   "display_name": ".venv",
   "language": "python",
   "name": "python3"
  },
  "language_info": {
   "codemirror_mode": {
    "name": "ipython",
    "version": 3
   },
   "file_extension": ".py",
   "mimetype": "text/x-python",
   "name": "python",
   "nbconvert_exporter": "python",
   "pygments_lexer": "ipython3",
   "version": "3.11.3"
  }
 },
 "nbformat": 4,
 "nbformat_minor": 5
}
