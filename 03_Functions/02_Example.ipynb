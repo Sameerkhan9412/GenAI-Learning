{
 "cells": [
  {
   "cell_type": "markdown",
   "id": "fd994477",
   "metadata": {},
   "source": [
    "**Example: Password Strength Calculator**"
   ]
  },
  {
   "cell_type": "code",
   "execution_count": 3,
   "id": "33776c3b",
   "metadata": {},
   "outputs": [
    {
     "name": "stdout",
     "output_type": "stream",
     "text": [
      "The password is strong.\n"
     ]
    }
   ],
   "source": [
    "def is_strong_password(password):\n",
    "    if len(password) < 8 :\n",
    "        return False\n",
    "    if not any( char.isdigit() for char in password):\n",
    "        return False\n",
    "    if not any( char.islower() for char in password):\n",
    "        return False\n",
    "    if not any( char.isupper() for char in password):\n",
    "        return False\n",
    "    if not any( char in \"!@#$%^&*()-_+=<>?{}[]|:;'\" for char in password):\n",
    "        return False\n",
    "    return True\n",
    "\n",
    "    print(\"Enter a password to check if it is strong:\")\n",
    "password = input()\n",
    "if is_strong_password(password):\n",
    "    print(\"The password is strong.\")\n",
    "else:\n",
    "    print(\"The password is weak. It must be at least 8 characters long, contain at least one digit, one lowercase letter, one uppercase letter, and one special character.\")"
   ]
  },
  {
   "cell_type": "code",
   "execution_count": 4,
   "id": "bcc199ae",
   "metadata": {},
   "outputs": [
    {
     "name": "stdout",
     "output_type": "stream",
     "text": [
      "Enter a number to find its factorial:\n",
      "The factorial of 4 is 15.\n"
     ]
    }
   ],
   "source": [
    "# find factorial of a number\n",
    "def fact(n):\n",
    "    if(n==0 or n==1):\n",
    "        return 1\n",
    "    return n*n-1\n",
    "print(\"Enter a number to find its factorial:\")\n",
    "n = int(input())\n",
    "if n < 0:\n",
    "    print(\"Factorial is not defined for negative numbers.\")\n",
    "else:\n",
    "    result = fact(n)\n",
    "    print(f\"The factorial of {n} is {result}.\")"
   ]
  },
  {
   "cell_type": "code",
   "execution_count": 7,
   "id": "723f85f3",
   "metadata": {},
   "outputs": [
    {
     "name": "stdout",
     "output_type": "stream",
     "text": [
      "Enter the filename to count word frequency:\n",
      "Word frequency in the file: {'the': 22, 'quick': 6, 'brown': 6, 'fox': 10, 'jumps': 6, 'over': 6, 'lazy': 6, 'dog': 12, 'barked': 6, 'back': 6, 'at': 6, 'fox.the': 2}\n"
     ]
    }
   ],
   "source": [
    "# function to read a file and count the frequency of each word\n",
    "def word_frequency(filename):\n",
    "    word_count = {}\n",
    "    with open(filename,'r') as file:\n",
    "        for line in file:\n",
    "            words=line.split()\n",
    "            for word in words:\n",
    "                word=word.lower().strip('.,!?\";:')\n",
    "                word_count[word]= word_count.get(word, 0) + 1\n",
    "    return word_count\n",
    "print(\"Enter the filename to count word frequency:\")\n",
    "filepath='sample.txt'  # Replace with your file path\n",
    "count=word_frequency(filepath)\n",
    "print(\"Word frequency in the file:\",count)"
   ]
  }
 ],
 "metadata": {
  "kernelspec": {
   "display_name": ".venv",
   "language": "python",
   "name": "python3"
  },
  "language_info": {
   "codemirror_mode": {
    "name": "ipython",
    "version": 3
   },
   "file_extension": ".py",
   "mimetype": "text/x-python",
   "name": "python",
   "nbconvert_exporter": "python",
   "pygments_lexer": "ipython3",
   "version": "3.11.3"
  }
 },
 "nbformat": 4,
 "nbformat_minor": 5
}
