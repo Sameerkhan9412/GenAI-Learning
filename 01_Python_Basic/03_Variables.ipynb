{
 "cells": [
  {
   "cell_type": "markdown",
   "id": "e17b22a4",
   "metadata": {},
   "source": [
    "Variable Outline:\n",
    "1. Introduction to variable\n",
    "2. declaring and assigning variables\n",
    "3. Naming conventions\n",
    "4. understanding variable types\n",
    "5. type checking and conversion\n",
    "6. Dynamic Typing\n",
    "7. Practical examples and common errors"
   ]
  },
  {
   "cell_type": "code",
   "execution_count": 4,
   "id": "cea35ae2",
   "metadata": {},
   "outputs": [
    {
     "name": "stdout",
     "output_type": "stream",
     "text": [
      "your age is 5\n"
     ]
    }
   ],
   "source": [
    "# declaration of variable:\n",
    "age=5\n",
    "print(\"your age is\",age)"
   ]
  },
  {
   "cell_type": "code",
   "execution_count": 8,
   "id": "410840f7",
   "metadata": {},
   "outputs": [
    {
     "data": {
      "text/plain": [
       "False"
      ]
     },
     "execution_count": 8,
     "metadata": {},
     "output_type": "execute_result"
    }
   ],
   "source": [
    "# Naming convention\n",
    "# variable name should be descriptive,they must always start with letter or underscore, and contain letter, number , variable name are case sensitive\n",
    "\n",
    "name=4\n",
    "Name=6\n",
    "name==Name\n"
   ]
  },
  {
   "cell_type": "code",
   "execution_count": 9,
   "id": "ce629d5d",
   "metadata": {},
   "outputs": [],
   "source": [
    "# Understanding variable types:\n",
    "## Python is dynamically typed language bcz type of the variable is determined at run time.\n",
    "age=23 #int\n",
    "height=455.5 #float\n",
    "name=\"sameer\" #str\n",
    "isStudent=True #bool"
   ]
  },
  {
   "cell_type": "code",
   "execution_count": 11,
   "id": "0f5350fe",
   "metadata": {},
   "outputs": [
    {
     "data": {
      "text/plain": [
       "float"
      ]
     },
     "execution_count": 11,
     "metadata": {},
     "output_type": "execute_result"
    }
   ],
   "source": [
    "# Type checking and conversion\n",
    "type(height)"
   ]
  },
  {
   "cell_type": "code",
   "execution_count": 16,
   "id": "797126d2",
   "metadata": {},
   "outputs": [
    {
     "name": "stdout",
     "output_type": "stream",
     "text": [
      "25\n",
      "25\n",
      "<class 'str'>\n"
     ]
    }
   ],
   "source": [
    "age=25\n",
    "print(age)\n",
    "# type conversion\n",
    "age_str=str(age)\n",
    "print(age_str)\n",
    "print(type(age_str))"
   ]
  },
  {
   "cell_type": "code",
   "execution_count": 18,
   "id": "45cd44eb",
   "metadata": {},
   "outputs": [
    {
     "ename": "ValueError",
     "evalue": "invalid literal for int() with base 10: 'Sameer'",
     "output_type": "error",
     "traceback": [
      "\u001b[31m---------------------------------------------------------------------------\u001b[39m",
      "\u001b[31mValueError\u001b[39m                                Traceback (most recent call last)",
      "\u001b[36mCell\u001b[39m\u001b[36m \u001b[39m\u001b[32mIn[18]\u001b[39m\u001b[32m, line 2\u001b[39m\n\u001b[32m      1\u001b[39m name=\u001b[33m\"\u001b[39m\u001b[33mSameer\u001b[39m\u001b[33m\"\u001b[39m\n\u001b[32m----> \u001b[39m\u001b[32m2\u001b[39m \u001b[38;5;28;43mint\u001b[39;49m\u001b[43m(\u001b[49m\u001b[43mname\u001b[49m\u001b[43m)\u001b[49m \u001b[38;5;66;03m#error\u001b[39;00m\n",
      "\u001b[31mValueError\u001b[39m: invalid literal for int() with base 10: 'Sameer'"
     ]
    }
   ],
   "source": [
    "name=\"Sameer\"\n",
    "int(name) #error"
   ]
  },
  {
   "cell_type": "code",
   "execution_count": 21,
   "id": "a5f848cf",
   "metadata": {},
   "outputs": [
    {
     "name": "stdout",
     "output_type": "stream",
     "text": [
      "10 <class 'int'>\n",
      "hello <class 'str'>\n",
      "3.34 <class 'float'>\n"
     ]
    }
   ],
   "source": [
    "# Dynamic Typing\n",
    "# python allows the type of a variable to change as the program executes\n",
    "var=10\n",
    "print(var,type(var))\n",
    "var=\"hello\"\n",
    "print(var,type(var))\n",
    "var=3.34\n",
    "print(var,type(var))\n"
   ]
  },
  {
   "cell_type": "code",
   "execution_count": 24,
   "id": "e5d6ed4e",
   "metadata": {},
   "outputs": [
    {
     "name": "stdout",
     "output_type": "stream",
     "text": [
      "45 <class 'str'>\n"
     ]
    }
   ],
   "source": [
    "# input\n",
    "age=input(\"enter number here\")\n",
    "print(age,type(age))"
   ]
  },
  {
   "cell_type": "code",
   "execution_count": 27,
   "id": "4cfd17e7",
   "metadata": {},
   "outputs": [
    {
     "name": "stdout",
     "output_type": "stream",
     "text": [
      "4 <class 'int'>\n"
     ]
    }
   ],
   "source": [
    "# input\n",
    "age=int(input(\"enter number here\"))\n",
    "print(age,type(age))"
   ]
  },
  {
   "cell_type": "code",
   "execution_count": 29,
   "id": "913602e5",
   "metadata": {},
   "outputs": [
    {
     "name": "stdout",
     "output_type": "stream",
     "text": [
      "123\n",
      "-11\n",
      "-11\n",
      "0.835820895522388\n",
      "56\n",
      "1344614559271622566824800732229716351875020113299212275576507703675689698287414197971049976570006821814534516387086336\n"
     ]
    }
   ],
   "source": [
    "# simple calcualtor\n",
    "num1=int(input(\"enter first number:\"))\n",
    "num2=int(input(\"enter second number:\"))\n",
    "sum=num1+num2\n",
    "sub=num1-num2\n",
    "mul=num1-num2\n",
    "div=num1/num2\n",
    "mod=num1%num2\n",
    "power=num1**num2\n",
    "print(sum)\n",
    "print(sub)\n",
    "print(mul)\n",
    "print(div)\n",
    "print(mod)\n",
    "print(power)"
   ]
  }
 ],
 "metadata": {
  "kernelspec": {
   "display_name": ".venv",
   "language": "python",
   "name": "python3"
  },
  "language_info": {
   "codemirror_mode": {
    "name": "ipython",
    "version": 3
   },
   "file_extension": ".py",
   "mimetype": "text/x-python",
   "name": "python",
   "nbconvert_exporter": "python",
   "pygments_lexer": "ipython3",
   "version": "3.11.3"
  }
 },
 "nbformat": 4,
 "nbformat_minor": 5
}
