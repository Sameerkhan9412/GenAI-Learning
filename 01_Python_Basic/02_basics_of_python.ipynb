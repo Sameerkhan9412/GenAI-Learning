{
 "cells": [
  {
   "cell_type": "markdown",
   "id": "08147595",
   "metadata": {},
   "source": [
    "topic to be cover:\n",
    "1. single line comment and multiline comments\n",
    "2. definition of syntax and semantics\n",
    "3. basic syntax rule in python\n",
    "4. understanding semantics in python\n",
    "5. common syntax errors and how to avoid them\n",
    "6. practical code example"
   ]
  },
  {
   "cell_type": "markdown",
   "id": "bc5bd7dc",
   "metadata": {},
   "source": [
    "Syntax: syntax refers to the set of rules that define the correct combination of symbols, keywords, and punctuation that a programming language uses. Think of it as the grammar of a programming language, just like grammar rules in English.\n",
    "\n",
    "Syntax ka matlab hota hai rules ya grammar jo ek programming language ke liye fix hoti hai. Jaise Hindi aur English bolne ki ek grammar hoti hai, waise hi har programming language ki apni syntax hoti hai.\n",
    "\n",
    "Agar syntax ka sahi use nahi hua, toh compiler/interpreter error dega aur code run nahi karega.\n",
    "\n",
    "why syntax is important:\n",
    "- Without correct syntax, the program will throw errors and won’t run.\n",
    "- It ensures that the compiler or interpreter can understand your instructions.\n",
    "- Good syntax usage makes your code more readable and maintainable.\n",
    "\n",
    "\n",
    "\n",
    "Semantics refers to the meaning or the interpretation of the symbols , characters and commands in a language. it is about what the code is supposed to do when it runs.Semantics refers to the meaning of the code — what the code actually does when it runs.\n",
    "While syntax is about the structure (how code is written),\n",
    "Semantics is about the behavior (what code does).\n",
    "So even if your syntax is correct, if the logic is wrong, then the semantics is incorrect.\n",
    "\n",
    "ex. a = 10\n",
    "b = 0\n",
    "print(a / b)\n",
    "Syntax: ✅ Correct (no grammar errors)\n",
    "\n",
    "Semantics: ❌ Wrong — divides by 0, which causes a runtime error.\n",
    "\n",
    "- Semantics ka matlab hota hai code ka actual meaning ya logic — yaani jab program chalega to wo kya kaam karega.\n",
    "- Syntax to batata hai ki code sahi likha gaya ya nahi (grammar),\n",
    "- Lekin semantics batata hai ki code ka output sahi hai ya nahi, aur wo kaam jo socha gaya tha wo ho raha hai ya nahi."
   ]
  },
  {
   "cell_type": "code",
   "execution_count": 1,
   "id": "ecc4e378",
   "metadata": {},
   "outputs": [
    {
     "name": "stdout",
     "output_type": "stream",
     "text": [
      "sameer\n",
      "khan\n"
     ]
    }
   ],
   "source": [
    "## basic syntax rules in python-> single line comment\n",
    "\n",
    "'''\n",
    "    hello kaise\n",
    "    i am good -> multiline comment (triple single quote)\n",
    "''' \n",
    "\n",
    "## case sensitivity: python is case sensitive\n",
    "name=\"sameer\"\n",
    "Name=\"khan\"\n",
    "print(name)\n",
    "print(Name)\n"
   ]
  },
  {
   "cell_type": "markdown",
   "id": "fe0d1ea4",
   "metadata": {},
   "source": [
    "Indentation: in python , Indentation is mendatory, in other language indentation is good practice but not mandatory.\n",
    "Indentation means adding spaces or tabs at the beginning of a line of code to define code blocks (like inside loops, functions, or conditions).\n",
    "It helps to:\n",
    "Make code more readable\n",
    "Show which lines belong together\n",
    "In some languages like Python, indentation is mandatory — it's part of the syntax!\n",
    "    if age > 18:\n",
    "        print(\"You can vote\")\n",
    "        print(\"Welcome!\")\n",
    "\n",
    "Here, both print() lines are indented, so Python knows they belong to the if block.\n",
    "\n",
    "if age > 18:\n",
    "print(\"You can vote\")\n",
    "\n",
    "⚠️ This will give an IndentationError in Python because the print line is not indented properly.\n",
    "\n",
    "Indentation ka matlab hota hai line ke start me kuch space ya tab dena, taaki code clean aur structured lage.\n",
    "🔸 Python me toh yeh required hota hai, warna error aa jata hai.\n",
    "🔸 JavaScript, C++, Java me indentation error nahi dete, par readability ke liye zaroori hota hai.\n",
    "\n"
   ]
  },
  {
   "cell_type": "code",
   "execution_count": 6,
   "id": "ab34ddc2",
   "metadata": {},
   "outputs": [
    {
     "name": "stdout",
     "output_type": "stream",
     "text": [
      "You can vote\n",
      "Welcome!\n"
     ]
    }
   ],
   "source": [
    "age=22 \n",
    "if age > 18:\n",
    "        print(\"You can vote\")\n",
    "        print(\"Welcome!\")\n",
    "\n",
    "## these whitespaces is indentation"
   ]
  },
  {
   "cell_type": "code",
   "execution_count": 8,
   "id": "99cf689b",
   "metadata": {},
   "outputs": [
    {
     "name": "stdout",
     "output_type": "stream",
     "text": [
      "58\n"
     ]
    }
   ],
   "source": [
    "# Line Continuation\n",
    "# use a \\ (backslash ) to continue a statement to the next line.\n",
    "total=1+2+3+4+5+6+7+\\\n",
    "6+7+8+9\n",
    "print(total)"
   ]
  },
  {
   "cell_type": "code",
   "execution_count": 10,
   "id": "bab50ff5",
   "metadata": {},
   "outputs": [
    {
     "name": "stdout",
     "output_type": "stream",
     "text": [
      "10\n"
     ]
    }
   ],
   "source": [
    "# Multiple statements on a single line\n",
    "x=5;y=5;z=9;a=x+y\n",
    "print(a)"
   ]
  },
  {
   "cell_type": "code",
   "execution_count": 11,
   "id": "39accd1d",
   "metadata": {},
   "outputs": [],
   "source": [
    "## Understand Semantics In python\n",
    "# Variable assignment\n",
    "age=32 #age is integer\n",
    "name=\"sameer\" #name is a string"
   ]
  },
  {
   "cell_type": "markdown",
   "id": "d52c40a3",
   "metadata": {},
   "source": [
    "Type Inference:\n",
    "-> Type inference means that Python automatically figures out the data type of a variable when you assign a value to it — you don’t have to declare the type manually."
   ]
  },
  {
   "cell_type": "code",
   "execution_count": null,
   "id": "f685e451",
   "metadata": {},
   "outputs": [
    {
     "data": {
      "text/plain": [
       "int"
      ]
     },
     "execution_count": 14,
     "metadata": {},
     "output_type": "execute_result"
    }
   ],
   "source": [
    "# type inference\n",
    "# Python is dynamically typed, so it allows this flexibility.\n",
    "type(age)"
   ]
  },
  {
   "cell_type": "code",
   "execution_count": 15,
   "id": "fe63b5de",
   "metadata": {},
   "outputs": [
    {
     "data": {
      "text/plain": [
       "str"
      ]
     },
     "execution_count": 15,
     "metadata": {},
     "output_type": "execute_result"
    }
   ],
   "source": [
    "type(name)"
   ]
  },
  {
   "cell_type": "code",
   "execution_count": null,
   "id": "e8a1dae9",
   "metadata": {},
   "outputs": [
    {
     "name": "stdout",
     "output_type": "stream",
     "text": [
      "<class 'int'>\n",
      "<class 'str'>\n"
     ]
    }
   ],
   "source": [
    "# Python is dynamically typed, so it allows this flexibility.\n",
    "variable=10\n",
    "print(type(variable))\n",
    "variable=\"sameer\"\n",
    "print(type(variable))"
   ]
  },
  {
   "cell_type": "code",
   "execution_count": 18,
   "id": "45eb692b",
   "metadata": {},
   "outputs": [
    {
     "name": "stdout",
     "output_type": "stream",
     "text": [
      "correct indentation \n",
      "this will print\n",
      "outside the if block\n"
     ]
    }
   ],
   "source": [
    "# example of correct indentation\n",
    "if True:\n",
    "    print(\"correct indentation \")\n",
    "    if False:\n",
    "        print(\"this one print\")\n",
    "    print(\"this will print\")\n",
    "print(\"outside the if block\")"
   ]
  },
  {
   "cell_type": "code",
   "execution_count": null,
   "id": "4b01457c",
   "metadata": {},
   "outputs": [],
   "source": []
  }
 ],
 "metadata": {
  "kernelspec": {
   "display_name": ".venv",
   "language": "python",
   "name": "python3"
  },
  "language_info": {
   "codemirror_mode": {
    "name": "ipython",
    "version": 3
   },
   "file_extension": ".py",
   "mimetype": "text/x-python",
   "name": "python",
   "nbconvert_exporter": "python",
   "pygments_lexer": "ipython3",
   "version": "3.11.3"
  }
 },
 "nbformat": 4,
 "nbformat_minor": 5
}
