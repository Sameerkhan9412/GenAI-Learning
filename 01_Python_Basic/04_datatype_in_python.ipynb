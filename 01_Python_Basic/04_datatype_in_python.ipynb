{
 "cells": [
  {
   "cell_type": "markdown",
   "id": "a8041707",
   "metadata": {},
   "source": [
    "Outline:\n",
    "basic datatypes:\n",
    "1. integer\n",
    "2. floating-point numbers\n",
    "3. Strings\n",
    "4. Booleans\n",
    "\n",
    "Advanced Datatypes:\n",
    "1. Lists\n",
    "2. tuples\n",
    "3. sets\n",
    "4. Dictionaries\n",
    "\n",
    "type conversion\n",
    "\n"
   ]
  },
  {
   "cell_type": "code",
   "execution_count": 3,
   "id": "d9886e8e",
   "metadata": {},
   "outputs": [
    {
     "data": {
      "text/plain": [
       "bool"
      ]
     },
     "execution_count": 3,
     "metadata": {},
     "output_type": "execute_result"
    }
   ],
   "source": [
    "bool_type=True\n",
    "type(bool_type)\n"
   ]
  },
  {
   "cell_type": "code",
   "execution_count": 5,
   "id": "9d61a6dd",
   "metadata": {},
   "outputs": [
    {
     "data": {
      "text/plain": [
       "False"
      ]
     },
     "execution_count": 5,
     "metadata": {},
     "output_type": "execute_result"
    }
   ],
   "source": [
    "is_True=bool() # be default return false\n",
    "is_True"
   ]
  },
  {
   "cell_type": "code",
   "execution_count": 7,
   "id": "a13ad131",
   "metadata": {},
   "outputs": [
    {
     "data": {
      "text/plain": [
       "True"
      ]
     },
     "execution_count": 7,
     "metadata": {},
     "output_type": "execute_result"
    }
   ],
   "source": [
    "a=10\n",
    "b=10\n",
    "a==b"
   ]
  },
  {
   "cell_type": "code",
   "execution_count": 9,
   "id": "867f4fb1",
   "metadata": {},
   "outputs": [
    {
     "data": {
      "text/plain": [
       "bool"
      ]
     },
     "execution_count": 9,
     "metadata": {},
     "output_type": "execute_result"
    }
   ],
   "source": [
    "a=10\n",
    "b=10\n",
    "type(a==b)"
   ]
  },
  {
   "cell_type": "code",
   "execution_count": 11,
   "id": "69e55160",
   "metadata": {},
   "outputs": [
    {
     "ename": "TypeError",
     "evalue": "can only concatenate str (not \"int\") to str",
     "output_type": "error",
     "traceback": [
      "\u001b[31m---------------------------------------------------------------------------\u001b[39m",
      "\u001b[31mTypeError\u001b[39m                                 Traceback (most recent call last)",
      "\u001b[36mCell\u001b[39m\u001b[36m \u001b[39m\u001b[32mIn[11]\u001b[39m\u001b[32m, line 2\u001b[39m\n\u001b[32m      1\u001b[39m \u001b[38;5;66;03m# common errors\u001b[39;00m\n\u001b[32m----> \u001b[39m\u001b[32m2\u001b[39m result=\u001b[33;43m\"\u001b[39;49m\u001b[33;43mhello\u001b[39;49m\u001b[33;43m\"\u001b[39;49m\u001b[43m+\u001b[49m\u001b[32;43m5\u001b[39;49m    \u001b[38;5;66;03m# return error TypeError: can only concatenate str (not \"int\") to str\u001b[39;00m\n",
      "\u001b[31mTypeError\u001b[39m: can only concatenate str (not \"int\") to str"
     ]
    }
   ],
   "source": [
    "# common errors\n",
    "result=\"hello\"+5    # return error TypeError: can only concatenate str (not \"int\") to str"
   ]
  },
  {
   "cell_type": "code",
   "execution_count": 12,
   "id": "1c2f10f5",
   "metadata": {},
   "outputs": [
    {
     "name": "stdout",
     "output_type": "stream",
     "text": [
      "hello5\n"
     ]
    }
   ],
   "source": [
    "# common errors\n",
    "result=\"hello\"+str(5)\n",
    "print(result)\n"
   ]
  }
 ],
 "metadata": {
  "kernelspec": {
   "display_name": ".venv",
   "language": "python",
   "name": "python3"
  },
  "language_info": {
   "codemirror_mode": {
    "name": "ipython",
    "version": 3
   },
   "file_extension": ".py",
   "mimetype": "text/x-python",
   "name": "python",
   "nbconvert_exporter": "python",
   "pygments_lexer": "ipython3",
   "version": "3.11.3"
  }
 },
 "nbformat": 4,
 "nbformat_minor": 5
}
