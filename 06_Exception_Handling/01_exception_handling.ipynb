{
 "cells": [
  {
   "cell_type": "markdown",
   "id": "379365e9",
   "metadata": {},
   "source": [
    "**Understanding exception handling**\n",
    "Exception handling in python allows  you to handle errors gracefully and take corrective actions without stopping the execution of the program . \n",
    "we will study about basic of exveption,including how to use try, except, else, and finally blocks.\n",
    "\n",
    "**What are Exceptions**\n",
    "exceptions are events that disturb the normal flow of a program . they occur when an error is encountered during program execution . common exceptions include:\n",
    "1. ZeroDivisionError:Diving by zero\n",
    "2. FileNotFoundError:file not found\n",
    "3. ValueError:invalid value\n",
    "4. TypeError:invalid type"
   ]
  },
  {
   "cell_type": "code",
   "execution_count": 2,
   "id": "b8eac00a",
   "metadata": {},
   "outputs": [
    {
     "name": "stdout",
     "output_type": "stream",
     "text": [
      "the variable has not assigned\n"
     ]
    }
   ],
   "source": [
    "# try except block\n",
    "try:\n",
    "    a=b\n",
    "except:\n",
    "    print(\"the variable has not assigned\")"
   ]
  },
  {
   "cell_type": "code",
   "execution_count": 3,
   "id": "d58a9615",
   "metadata": {},
   "outputs": [
    {
     "name": "stdout",
     "output_type": "stream",
     "text": [
      "the variable has not assigned\n"
     ]
    }
   ],
   "source": [
    "# try except block\n",
    "try:\n",
    "    a=b\n",
    "except NameError:\n",
    "    print(\"the variable has not assigned\")"
   ]
  },
  {
   "cell_type": "code",
   "execution_count": 4,
   "id": "2d03bbea",
   "metadata": {},
   "outputs": [
    {
     "name": "stdout",
     "output_type": "stream",
     "text": [
      "name 'b' is not defined\n"
     ]
    }
   ],
   "source": [
    "# try except block\n",
    "try:\n",
    "    a=b\n",
    "except NameError as ex:\n",
    "    print(ex)"
   ]
  },
  {
   "cell_type": "code",
   "execution_count": 5,
   "id": "a29c82a2",
   "metadata": {},
   "outputs": [
    {
     "ename": "ZeroDivisionError",
     "evalue": "division by zero",
     "output_type": "error",
     "traceback": [
      "\u001b[31m---------------------------------------------------------------------------\u001b[39m",
      "\u001b[31mZeroDivisionError\u001b[39m                         Traceback (most recent call last)",
      "\u001b[36mCell\u001b[39m\u001b[36m \u001b[39m\u001b[32mIn[5]\u001b[39m\u001b[32m, line 1\u001b[39m\n\u001b[32m----> \u001b[39m\u001b[32m1\u001b[39m result=\u001b[32;43m1\u001b[39;49m\u001b[43m/\u001b[49m\u001b[32;43m0\u001b[39;49m\n",
      "\u001b[31mZeroDivisionError\u001b[39m: division by zero"
     ]
    }
   ],
   "source": [
    "result=1/0"
   ]
  },
  {
   "cell_type": "code",
   "execution_count": 22,
   "id": "ed1f3ddf",
   "metadata": {},
   "outputs": [
    {
     "ename": "NameError",
     "evalue": "name 'b' is not defined",
     "output_type": "error",
     "traceback": [
      "\u001b[31m---------------------------------------------------------------------------\u001b[39m",
      "\u001b[31mNameError\u001b[39m                                 Traceback (most recent call last)",
      "\u001b[36mCell\u001b[39m\u001b[36m \u001b[39m\u001b[32mIn[22]\u001b[39m\u001b[32m, line 3\u001b[39m\n\u001b[32m      1\u001b[39m \u001b[38;5;28;01mtry\u001b[39;00m:\n\u001b[32m      2\u001b[39m     \u001b[38;5;66;03m# result=1/0\u001b[39;00m\n\u001b[32m----> \u001b[39m\u001b[32m3\u001b[39m     a=\u001b[43mb\u001b[49m\n\u001b[32m      4\u001b[39m \u001b[38;5;28;01mexcept\u001b[39;00m \u001b[38;5;167;01mZeroDivisionError\u001b[39;00m \u001b[38;5;28;01mas\u001b[39;00m zd:\n\u001b[32m      5\u001b[39m     \u001b[38;5;28mprint\u001b[39m(zd)\n",
      "\u001b[31mNameError\u001b[39m: name 'b' is not defined"
     ]
    }
   ],
   "source": [
    "try:\n",
    "    # result=1/0\n",
    "    a=b\n",
    "except ZeroDivisionError as zd:\n",
    "    print(zd)\n",
    "    print(\"plz enter value greater than 0\") \n",
    "except Exception as ex2:\n",
    "    print(ex2)\n",
    "    print(\"main excepiton class got caught here\")"
   ]
  },
  {
   "cell_type": "code",
   "execution_count": 30,
   "id": "4095fba6",
   "metadata": {},
   "outputs": [
    {
     "name": "stdout",
     "output_type": "stream",
     "text": [
      "value must be numeric <class 'ValueError'>\n"
     ]
    }
   ],
   "source": [
    "try:\n",
    "    num=int(input(\"enter number:\"))\n",
    "    ans=4/num\n",
    "    print(\"your number is\",ans)\n",
    "except ValueError:\n",
    "    print(\"value must be numeric\",ValueError)\n",
    "except ZeroDivisionError:\n",
    "    print(ValueError)\n",
    "    print(\"take a fit number\")\n",
    "except Exception as ex5:\n",
    "    print(\"other errors\",ex5)"
   ]
  },
  {
   "cell_type": "code",
   "execution_count": 35,
   "id": "c7e7e1d1",
   "metadata": {},
   "outputs": [
    {
     "name": "stdout",
     "output_type": "stream",
     "text": [
      "you cant divide by zero!\n",
      "execution completed\n"
     ]
    }
   ],
   "source": [
    "# try , except, else block\n",
    "try:\n",
    "    num=int(input(\"Enter a number\"))\n",
    "    result=10/num\n",
    "except ValueError:\n",
    "    print(\"that's not a valid number\")\n",
    "except ZeroDivisionError:\n",
    "    print('you cant divide by zero!')\n",
    "else: # if none of the exception call then this block of code will be exucuted\n",
    "    print(f\"the result is {result}\")\n",
    "finally:\n",
    "    print(\"execution completed\") # this will call in every condition"
   ]
  },
  {
   "cell_type": "code",
   "execution_count": 37,
   "id": "3ea1e602",
   "metadata": {},
   "outputs": [
    {
     "name": "stdout",
     "output_type": "stream",
     "text": [
      "file dont exist\n"
     ]
    }
   ],
   "source": [
    "# file handling using exception handling\n",
    "try:\n",
    "    file=open('example.txt','r')\n",
    "    content=file.read()\n",
    "    print(content)\n",
    "except FileNotFoundError:\n",
    "    print('file dont exist')\n",
    "finally:\n",
    "    if 'file' in locals() and not file.closed():\n",
    "        file.close()\n",
    "        print('file close')"
   ]
  }
 ],
 "metadata": {
  "kernelspec": {
   "display_name": ".venv",
   "language": "python",
   "name": "python3"
  },
  "language_info": {
   "codemirror_mode": {
    "name": "ipython",
    "version": 3
   },
   "file_extension": ".py",
   "mimetype": "text/x-python",
   "name": "python",
   "nbconvert_exporter": "python",
   "pygments_lexer": "ipython3",
   "version": "3.11.3"
  }
 },
 "nbformat": 4,
 "nbformat_minor": 5
}
