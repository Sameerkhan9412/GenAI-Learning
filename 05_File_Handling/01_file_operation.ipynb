{
 "cells": [
  {
   "cell_type": "markdown",
   "id": "f3b5239b",
   "metadata": {},
   "source": [
    "**File Operation :Read and write file**\n",
    "File handling is crucial part of any programming language.python provides built in functions and methods to read from and write to files, both text and binary. this lession will cover the basics of file handling, including reading, writing text files and binary files."
   ]
  },
  {
   "cell_type": "code",
   "execution_count": 1,
   "id": "455c0623",
   "metadata": {},
   "outputs": [
    {
     "name": "stdout",
     "output_type": "stream",
     "text": [
      "how are you, yes i am good, how about you\n"
     ]
    }
   ],
   "source": [
    "# Read a whole File\n",
    "with open('example.txt','r') as file:\n",
    "    content= file.read()\n",
    "    print(content)"
   ]
  },
  {
   "cell_type": "code",
   "execution_count": 4,
   "id": "10b116f2",
   "metadata": {},
   "outputs": [
    {
     "name": "stdout",
     "output_type": "stream",
     "text": [
      "how are you, yes i am good, how about you\n",
      "hello\n",
      "hi\n"
     ]
    }
   ],
   "source": [
    "# read a file line by line\n",
    "with open('example.txt','r') as file:\n",
    "    for line in file:\n",
    "        # print(line) ek extra line aarhi h\n",
    "        print(line.strip())"
   ]
  },
  {
   "cell_type": "code",
   "execution_count": 5,
   "id": "15a5d7c8",
   "metadata": {},
   "outputs": [],
   "source": [
    "# writing a file:overwriting\n",
    "with open('example.txt','w') as file:\n",
    "    file.write('hellow wolrd \\n')\n",
    "    file.write(\"this is next line.\")"
   ]
  },
  {
   "cell_type": "code",
   "execution_count": 8,
   "id": "d164011b",
   "metadata": {},
   "outputs": [],
   "source": [
    "# write file: without overwriting\n",
    "with open('example.txt','a') as file:\n",
    "    file.write(\"append succesfully ho gya \\n\")\n"
   ]
  },
  {
   "cell_type": "code",
   "execution_count": 13,
   "id": "3e56972d",
   "metadata": {},
   "outputs": [],
   "source": [
    "# writing a list of lines to a file\n",
    "lines=[\"first line \\n\",\"second line \\n\",\"third line \\n\"]\n",
    "# with open('example.txt','a') as file:\n",
    "#     for line in lines:\n",
    "#         file.write(line)\n",
    "\n",
    "\n",
    "# or\n",
    "\n",
    "with open('example.txt','a') as file:\n",
    "    file.writelines(lines)"
   ]
  },
  {
   "cell_type": "code",
   "execution_count": null,
   "id": "4c7e7cb9",
   "metadata": {},
   "outputs": [],
   "source": [
    "# binary file :example.bin->binary file\n",
    "\n",
    "# writing binary file\n",
    "data=b'\\x00\\x01\\x02\\x03\\x04'\n",
    "with open('example.bin','wb') as file:  # wb->write byte mode\n",
    "    file.write(data)\n"
   ]
  },
  {
   "cell_type": "code",
   "execution_count": 15,
   "id": "bff553d5",
   "metadata": {},
   "outputs": [
    {
     "name": "stdout",
     "output_type": "stream",
     "text": [
      "b'\\x00\\x01\\x02\\x03\\x04'\n"
     ]
    }
   ],
   "source": [
    "# reading binary file\n",
    "with open('example.bin','rb') as file:\n",
    "    content=file.read()\n",
    "    print(content)"
   ]
  },
  {
   "cell_type": "code",
   "execution_count": 16,
   "id": "ad8fd1fb",
   "metadata": {},
   "outputs": [
    {
     "name": "stdout",
     "output_type": "stream",
     "text": [
      "lines:14,words:27,characters:173\n"
     ]
    }
   ],
   "source": [
    "# read a text file and count the number of lines, words and characters\n",
    "def count_text_file(file_path):\n",
    "    with open(file_path,'r') as file:\n",
    "        lines=file.readlines()\n",
    "        line_count=len(lines)\n",
    "        word_count=sum(len(line.split()) for line in lines)\n",
    "        char_count=sum(len(line) for line in lines)\n",
    "        return line_count,word_count,char_count\n",
    "    \n",
    "file_path='example.txt'\n",
    "lines,words,chars=count_text_file(file_path)\n",
    "print(f'lines:{lines},words:{words},characters:{chars}')"
   ]
  },
  {
   "cell_type": "markdown",
   "id": "f848bdf7",
   "metadata": {},
   "source": [
    "the w+ mode in python is used to open a file for both reading and writing. if the file does not exist , it will be created . if the file existes, its content is truncated (i.e., the file is overwritten)."
   ]
  },
  {
   "cell_type": "code",
   "execution_count": 22,
   "id": "7a81284a",
   "metadata": {},
   "outputs": [
    {
     "name": "stdout",
     "output_type": "stream",
     "text": [
      "hello wotld\n",
      "this is a new l fkdfsdfskfd       dfdfdine \n",
      "\n"
     ]
    }
   ],
   "source": [
    "# writing and then reading a file\n",
    "with open('example.txt','w+') as file:\n",
    "    file.write('hello wotld\\n')\n",
    "    file.write(\"this is a new l fkdfsdfskfd       dfdfdine \\n\")\n",
    "\n",
    "    # move the file cursor to the beginnning\n",
    "    file.seek(0)\n",
    "    # read the content of the file\n",
    "    content=file.read()\n",
    "    print(content)"
   ]
  },
  {
   "cell_type": "markdown",
   "id": "da8b9998",
   "metadata": {},
   "source": [
    "**current working directory is 05_file_handling**"
   ]
  },
  {
   "cell_type": "code",
   "execution_count": 24,
   "id": "40d83fa0",
   "metadata": {},
   "outputs": [
    {
     "name": "stdout",
     "output_type": "stream",
     "text": [
      "Directory 'sample_dir' create\n"
     ]
    }
   ],
   "source": [
    "# create new directory\n",
    "import os\n",
    "new_directory=\"sample_dir\"\n",
    "os.mkdir(new_directory)\n",
    "print(f\"Directory '{new_directory}' create\")"
   ]
  },
  {
   "cell_type": "code",
   "execution_count": 25,
   "id": "c0a2e20a",
   "metadata": {},
   "outputs": [
    {
     "name": "stdout",
     "output_type": "stream",
     "text": [
      "['01_file_operation.ipynb', 'example.bin', 'example.txt', 'sample_dir']\n"
     ]
    }
   ],
   "source": [
    "# listing files and directories\n",
    "items=os.listdir('.')\n",
    "print(items)"
   ]
  },
  {
   "cell_type": "code",
   "execution_count": 27,
   "id": "e14173e5",
   "metadata": {},
   "outputs": [
    {
     "name": "stdout",
     "output_type": "stream",
     "text": [
      "folder\\file.txt\n",
      "e:\\Learning GenAI\\05_File_Handling\\folder\\file.txt\n"
     ]
    }
   ],
   "source": [
    "# joining paths\n",
    "dir_name=\"folder\"\n",
    "file_name=\"file.txt\"\n",
    "full_path1=os.path.join(dir_name,file_name)\n",
    "print(full_path1)\n",
    "full_path2=os.path.join(os.getcwd(),dir_name,file_name)\n",
    "print(full_path2)\n"
   ]
  },
  {
   "cell_type": "code",
   "execution_count": 30,
   "id": "d950fb08",
   "metadata": {},
   "outputs": [
    {
     "name": "stdout",
     "output_type": "stream",
     "text": [
      "the path: 'example1.text'not  exists\n"
     ]
    }
   ],
   "source": [
    "import os\n",
    "path=\"example1.text\"\n",
    "if(os.path.exists(path)):\n",
    "    print(f\"the path: '{path}' exists\")\n",
    "else:\n",
    "    print(f\"the path: '{path}'not  exists\")"
   ]
  },
  {
   "cell_type": "code",
   "execution_count": 31,
   "id": "d65ce455",
   "metadata": {},
   "outputs": [
    {
     "name": "stdout",
     "output_type": "stream",
     "text": [
      "e:\\Learning GenAI\\05_File_Handling\\example.txt\n"
     ]
    }
   ],
   "source": [
    "# getting absolute path\n",
    "relative_path='example.txt'\n",
    "absolute_path=os.path.abspath(relative_path)\n",
    "print(absolute_path)"
   ]
  }
 ],
 "metadata": {
  "kernelspec": {
   "display_name": ".venv",
   "language": "python",
   "name": "python3"
  },
  "language_info": {
   "codemirror_mode": {
    "name": "ipython",
    "version": 3
   },
   "file_extension": ".py",
   "mimetype": "text/x-python",
   "name": "python",
   "nbconvert_exporter": "python",
   "pygments_lexer": "ipython3",
   "version": "3.11.3"
  }
 },
 "nbformat": 4,
 "nbformat_minor": 5
}
