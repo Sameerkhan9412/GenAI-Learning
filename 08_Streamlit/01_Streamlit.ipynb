{
 "cells": [
  {
   "cell_type": "markdown",
   "id": "b2e4a978",
   "metadata": {},
   "source": [
    "## Introduction to Streamlit\n",
    "streamlit is an open source app framework for machine learning and data science projects. it allows you to create beautiful web applicaiton for you machine learning and data science projects with simple python scripts."
   ]
  },
  {
   "cell_type": "markdown",
   "id": "76af59d1",
   "metadata": {},
   "source": []
  }
 ],
 "metadata": {
  "language_info": {
   "name": "python"
  }
 },
 "nbformat": 4,
 "nbformat_minor": 5
}
